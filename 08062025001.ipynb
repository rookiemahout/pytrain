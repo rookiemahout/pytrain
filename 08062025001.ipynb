{
  "nbformat": 4,
  "nbformat_minor": 0,
  "metadata": {
    "colab": {
      "provenance": [],
      "authorship_tag": "ABX9TyPWvkfrGlcfqqht+LcJNoLy",
      "include_colab_link": true
    },
    "kernelspec": {
      "name": "python3",
      "display_name": "Python 3"
    },
    "language_info": {
      "name": "python"
    }
  },
  "cells": [
    {
      "cell_type": "markdown",
      "metadata": {
        "id": "view-in-github",
        "colab_type": "text"
      },
      "source": [
        "<a href=\"https://colab.research.google.com/github/rookiemahout/pytrain/blob/Local/08062025001.ipynb\" target=\"_parent\"><img src=\"https://colab.research.google.com/assets/colab-badge.svg\" alt=\"Open In Colab\"/></a>"
      ]
    },
    {
      "cell_type": "code",
      "execution_count": 64,
      "metadata": {
        "id": "VzrJp5v56pDZ",
        "colab": {
          "base_uri": "https://localhost:8080/"
        },
        "outputId": "359d88a3-812d-498c-e21a-0f9f6c06b581"
      },
      "outputs": [
        {
          "output_type": "stream",
          "name": "stdout",
          "text": [
            "1\n",
            "2\n",
            "3\n",
            "4\n",
            "5\n"
          ]
        }
      ],
      "source": [
        "#1.\tPrint numbers from 1 to 5 using a for loop.\n",
        "\n",
        "for a in range(1,6):\n",
        "    print(a)"
      ]
    },
    {
      "cell_type": "code",
      "source": [
        "#2.\tPrint numbers from 10 to 15 using a for loop.\n",
        "\n",
        "for a in range(10,16,1):\n",
        "    print(a)"
      ],
      "metadata": {
        "id": "SUkTdD_y7bAs",
        "colab": {
          "base_uri": "https://localhost:8080/"
        },
        "outputId": "d444495c-e712-4ff4-88c5-0fcf55aa493a"
      },
      "execution_count": 67,
      "outputs": [
        {
          "output_type": "stream",
          "name": "stdout",
          "text": [
            "10\n",
            "11\n",
            "12\n",
            "13\n",
            "14\n",
            "15\n"
          ]
        }
      ]
    },
    {
      "cell_type": "code",
      "source": [
        "#3.\tPrint your name 5 times using a for loop.\n",
        "\n",
        "for a in range(5):\n",
        "    print(\"Ahaan\")"
      ],
      "metadata": {
        "id": "8IeMAndV7dsj",
        "colab": {
          "base_uri": "https://localhost:8080/"
        },
        "outputId": "d91dc543-bdd3-44c7-f0b4-a6f7dd3253a4"
      },
      "execution_count": 68,
      "outputs": [
        {
          "output_type": "stream",
          "name": "stdout",
          "text": [
            "Ahaan\n",
            "Ahaan\n",
            "Ahaan\n",
            "Ahaan\n",
            "Ahaan\n"
          ]
        }
      ]
    },
    {
      "cell_type": "code",
      "source": [
        "#4.\tPrint “Hello!” 3 times using a for loop.\n",
        "\n",
        "for a in range(3):\n",
        "    print(\"Hello!\")"
      ],
      "metadata": {
        "id": "wjqTdTc17jEK",
        "colab": {
          "base_uri": "https://localhost:8080/"
        },
        "outputId": "d1e29b6c-748e-4a01-c7ce-77b8a324b3db"
      },
      "execution_count": 69,
      "outputs": [
        {
          "output_type": "stream",
          "name": "stdout",
          "text": [
            "Hello!\n",
            "Hello!\n",
            "Hello!\n"
          ]
        }
      ]
    },
    {
      "cell_type": "code",
      "source": [
        "#5.\tPrint even numbers from 2 to 10 using a for loop.\n",
        "\n",
        "for a in range(2,11,2):\n",
        "    print(a)"
      ],
      "metadata": {
        "id": "zjV2flIg7lrU",
        "colab": {
          "base_uri": "https://localhost:8080/"
        },
        "outputId": "cdecdfc1-c539-4845-b0f9-3f60eb1412e9"
      },
      "execution_count": 70,
      "outputs": [
        {
          "output_type": "stream",
          "name": "stdout",
          "text": [
            "2\n",
            "4\n",
            "6\n",
            "8\n",
            "10\n"
          ]
        }
      ]
    },
    {
      "cell_type": "code",
      "source": [
        "#6.\tPrint odd numbers from 1 to 9 using a for loop.\n",
        "\n",
        "for a in range(1,10,2):\n",
        "    print(a)"
      ],
      "metadata": {
        "id": "RzLcggqi7oC3",
        "colab": {
          "base_uri": "https://localhost:8080/"
        },
        "outputId": "581c2e78-6ac2-4b80-8249-a76d611473f2"
      },
      "execution_count": 37,
      "outputs": [
        {
          "output_type": "stream",
          "name": "stdout",
          "text": [
            "1\n",
            "3\n",
            "5\n",
            "7\n",
            "9\n"
          ]
        }
      ]
    },
    {
      "cell_type": "code",
      "source": [
        "#7.\tPrint numbers from 5 to 1 in reverse order.\n",
        "\n",
        "for x in range(5,0,-1):\n",
        "    print(x)"
      ],
      "metadata": {
        "id": "YtzmMIGM7q8f",
        "colab": {
          "base_uri": "https://localhost:8080/"
        },
        "outputId": "b0d7d023-760b-4631-9781-185439dadbef"
      },
      "execution_count": 71,
      "outputs": [
        {
          "output_type": "stream",
          "name": "stdout",
          "text": [
            "5\n",
            "4\n",
            "3\n",
            "2\n",
            "1\n"
          ]
        }
      ]
    },
    {
      "cell_type": "code",
      "source": [
        "#8.\tPrint “I love coding!” 4 times using a for loop.\n",
        "\n",
        "for a in range(4):\n",
        "    print(\"I love coding\")"
      ],
      "metadata": {
        "id": "qYQHAVzF7tkA",
        "colab": {
          "base_uri": "https://localhost:8080/"
        },
        "outputId": "fa07289a-562f-4591-e618-b5add70ae206"
      },
      "execution_count": 40,
      "outputs": [
        {
          "output_type": "stream",
          "name": "stdout",
          "text": [
            "I love coding\n",
            "I love coding\n",
            "I love coding\n",
            "I love coding\n"
          ]
        }
      ]
    },
    {
      "cell_type": "code",
      "source": [
        "#9.\tPrint the word “Python” 6 times using a for loop.\n",
        "\n",
        "for a in range(6):\n",
        "    print(\"Python\")"
      ],
      "metadata": {
        "id": "Eh-Dmm_E7vVk",
        "colab": {
          "base_uri": "https://localhost:8080/"
        },
        "outputId": "2834a3e7-7a15-4a0a-b5ca-8014f5247671"
      },
      "execution_count": 41,
      "outputs": [
        {
          "output_type": "stream",
          "name": "stdout",
          "text": [
            "Python\n",
            "Python\n",
            "Python\n",
            "Python\n",
            "Python\n",
            "Python\n"
          ]
        }
      ]
    },
    {
      "cell_type": "code",
      "source": [
        "#10.\tPrint the smiley emoji 😊 five times using a for loop.\n",
        "\n",
        "for a in range(5):\n",
        "    print(\"😊\")"
      ],
      "metadata": {
        "id": "Olex5BRg7xfY",
        "colab": {
          "base_uri": "https://localhost:8080/"
        },
        "outputId": "0e2037ac-87e9-43cd-af5f-faaea05a5b24"
      },
      "execution_count": 42,
      "outputs": [
        {
          "output_type": "stream",
          "name": "stdout",
          "text": [
            "😊\n",
            "😊\n",
            "😊\n",
            "😊\n",
            "😊\n"
          ]
        }
      ]
    },
    {
      "cell_type": "code",
      "source": [
        "#11.\tPrint the word “Wow!” 3 times using a for loop.\n",
        "\n",
        "for a in range(3):\n",
        "    print(\"Wow!\")"
      ],
      "metadata": {
        "id": "eXRFhPje7zJ0",
        "colab": {
          "base_uri": "https://localhost:8080/"
        },
        "outputId": "6b8f0d84-183d-49ab-a246-04a1119af24c"
      },
      "execution_count": 44,
      "outputs": [
        {
          "output_type": "stream",
          "name": "stdout",
          "text": [
            "Wow!\n",
            "Wow!\n",
            "Wow!\n"
          ]
        }
      ]
    },
    {
      "cell_type": "code",
      "source": [
        "#12.\tUse a for loop to print the numbers from 1 to 10.\n",
        "\n",
        "for a in range(1,11,1):\n",
        "    print(a)"
      ],
      "metadata": {
        "id": "WNF7pudu71HS",
        "colab": {
          "base_uri": "https://localhost:8080/"
        },
        "outputId": "aeed60cd-b9a1-471a-d837-d1f33fc33dc8"
      },
      "execution_count": 47,
      "outputs": [
        {
          "output_type": "stream",
          "name": "stdout",
          "text": [
            "1\n",
            "2\n",
            "3\n",
            "4\n",
            "5\n",
            "6\n",
            "7\n",
            "8\n",
            "9\n",
            "10\n"
          ]
        }
      ]
    },
    {
      "cell_type": "code",
      "source": [
        "#13.\tUse a for loop to print the first 5 multiples of 3.\n",
        "\n",
        "for a in range(3,16,3):\n",
        "    print(a)"
      ],
      "metadata": {
        "id": "Qzn-YT7h73Kg",
        "colab": {
          "base_uri": "https://localhost:8080/"
        },
        "outputId": "445fbf9b-37ae-45e3-ed96-e68ca6bc9ca6"
      },
      "execution_count": 49,
      "outputs": [
        {
          "output_type": "stream",
          "name": "stdout",
          "text": [
            "3\n",
            "6\n",
            "9\n",
            "12\n",
            "15\n"
          ]
        }
      ]
    },
    {
      "cell_type": "code",
      "source": [
        "#14.\tPrint a triangle shape with stars using a for loop.\n",
        "\n"
      ],
      "metadata": {
        "id": "Kk4LEo16745J"
      },
      "execution_count": null,
      "outputs": []
    },
    {
      "cell_type": "code",
      "source": [
        "#15.\tUse a for loop to print the letters in the word “Cat”.\n",
        "\n",
        "name = \"Cat\"\n",
        "\n",
        "for a in name:\n",
        "    print(a)"
      ],
      "metadata": {
        "id": "lkf6unwI76Zt",
        "colab": {
          "base_uri": "https://localhost:8080/"
        },
        "outputId": "4a90894f-0fed-42c4-c399-af5c74a17796"
      },
      "execution_count": 53,
      "outputs": [
        {
          "output_type": "stream",
          "name": "stdout",
          "text": [
            "C\n",
            "a\n",
            "t\n"
          ]
        }
      ]
    },
    {
      "cell_type": "code",
      "source": [
        "#16.\tUse a for loop to print numbers from 0 to 3.\n",
        "\n",
        "for a in range(0,4,1):\n",
        "    print(a)"
      ],
      "metadata": {
        "id": "38KWaQK078Sq",
        "colab": {
          "base_uri": "https://localhost:8080/"
        },
        "outputId": "ce702610-aee2-49d7-8109-e84826346526"
      },
      "execution_count": 57,
      "outputs": [
        {
          "output_type": "stream",
          "name": "stdout",
          "text": [
            "0\n",
            "1\n",
            "2\n",
            "3\n"
          ]
        }
      ]
    },
    {
      "cell_type": "code",
      "source": [
        "#17.\tUse a for loop to print the word “Great!” 2 times.\n",
        "\n",
        "for a in range(2):\n",
        "    print(\"Great!\")"
      ],
      "metadata": {
        "id": "BBoWYY2X798e",
        "colab": {
          "base_uri": "https://localhost:8080/"
        },
        "outputId": "144a64e9-bf1c-455a-ca02-366f5356283e"
      },
      "execution_count": 58,
      "outputs": [
        {
          "output_type": "stream",
          "name": "stdout",
          "text": [
            "Great!\n",
            "Great!\n"
          ]
        }
      ]
    },
    {
      "cell_type": "code",
      "source": [
        "#18.\tPrint the table of 2 using a for loop.\n",
        "\n",
        "x = int(input(\"Which number do you want the table for? \"))\n",
        "\n",
        "for a in range(2,11,1):\n",
        "    print(x, \"x\", a, \"=\", x*a)"
      ],
      "metadata": {
        "id": "ntEdH6X77_q4",
        "colab": {
          "base_uri": "https://localhost:8080/"
        },
        "outputId": "3ca42de0-95bb-4079-f4db-80af11029d37"
      },
      "execution_count": 76,
      "outputs": [
        {
          "output_type": "stream",
          "name": "stdout",
          "text": [
            "Which number do you want the table for? 3\n",
            "3 x 2 = 6\n",
            "3 x 3 = 9\n",
            "3 x 4 = 12\n",
            "3 x 5 = 15\n",
            "3 x 6 = 18\n",
            "3 x 7 = 21\n",
            "3 x 8 = 24\n",
            "3 x 9 = 27\n",
            "3 x 10 = 30\n"
          ]
        }
      ]
    },
    {
      "cell_type": "code",
      "source": [
        "#19.\tPrint 4 hearts (❤) using a for loop.\n",
        "\n",
        "for a in range(4):\n",
        "    print(\"❤\")"
      ],
      "metadata": {
        "id": "ba1aQ1cs8BtD",
        "colab": {
          "base_uri": "https://localhost:8080/"
        },
        "outputId": "5d0c7a00-df09-412b-e098-21db9813c91c"
      },
      "execution_count": 59,
      "outputs": [
        {
          "output_type": "stream",
          "name": "stdout",
          "text": [
            "❤\n",
            "❤\n",
            "❤\n",
            "❤\n"
          ]
        }
      ]
    },
    {
      "cell_type": "code",
      "source": [
        "#20.\tPrint numbers from 1 to 20 but skip 2 each time.\n",
        "\n",
        "for x in range(1,20,2):\n",
        "    print(x)"
      ],
      "metadata": {
        "id": "4ACwBNgq8EKZ",
        "colab": {
          "base_uri": "https://localhost:8080/"
        },
        "outputId": "a0bd0cc5-37e4-4381-c5ee-1493ec018c63"
      },
      "execution_count": 60,
      "outputs": [
        {
          "output_type": "stream",
          "name": "stdout",
          "text": [
            "1\n",
            "3\n",
            "5\n",
            "7\n",
            "9\n",
            "11\n",
            "13\n",
            "15\n",
            "17\n",
            "19\n"
          ]
        }
      ]
    }
  ]
}