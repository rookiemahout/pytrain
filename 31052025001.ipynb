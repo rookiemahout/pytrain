{
  "nbformat": 4,
  "nbformat_minor": 0,
  "metadata": {
    "colab": {
      "provenance": [],
      "authorship_tag": "ABX9TyMzjqDGsv3vtCB87DtEoD/2",
      "include_colab_link": true
    },
    "kernelspec": {
      "name": "python3",
      "display_name": "Python 3"
    },
    "language_info": {
      "name": "python"
    }
  },
  "cells": [
    {
      "cell_type": "markdown",
      "metadata": {
        "id": "view-in-github",
        "colab_type": "text"
      },
      "source": [
        "<a href=\"https://colab.research.google.com/github/rookiemahout/pytrain/blob/Local/31052025001.ipynb\" target=\"_parent\"><img src=\"https://colab.research.google.com/assets/colab-badge.svg\" alt=\"Open In Colab\"/></a>"
      ]
    },
    {
      "cell_type": "code",
      "execution_count": 6,
      "metadata": {
        "colab": {
          "base_uri": "https://localhost:8080/"
        },
        "id": "BctGwFNEOMCK",
        "outputId": "1851c9c7-0e13-41bb-f321-368f1f5e43c3"
      },
      "outputs": [
        {
          "output_type": "stream",
          "name": "stdout",
          "text": [
            "Enter a number:20\n",
            "Above ten,\n",
            "but not above 20.\n"
          ]
        }
      ],
      "source": [
        "#Example\n",
        "x = int(input(\"Enter a number:\"))\n",
        "\n",
        "if x > 10:\n",
        "  print(\"Above 10,\")\n",
        "  if x > 20:\n",
        "    print(\"and also above 20!\")\n",
        "  else:\n",
        "    print(\"but not above 20.\")\n",
        "else:\n",
        "  print(\"Below 10.\")"
      ]
    },
    {
      "cell_type": "code",
      "source": [
        "#1. Is your number greater than 5?\n",
        "\n",
        "num = int(input(\"Enter a number of your choice: \"))\n",
        "\n",
        "if num > 5:\n",
        "  print(\"The number is greater than 5.\")\n",
        "else:\n",
        "  print(\"The number is lesser than or equal to 5.\")"
      ],
      "metadata": {
        "colab": {
          "base_uri": "https://localhost:8080/"
        },
        "id": "KECnyfplbueS",
        "outputId": "b1319760-4b36-42e4-daf8-0813c5f251ed"
      },
      "execution_count": 8,
      "outputs": [
        {
          "output_type": "stream",
          "name": "stdout",
          "text": [
            "Enter a number of your choice: 6\n",
            "The number is greater than 5.\n"
          ]
        }
      ]
    },
    {
      "cell_type": "code",
      "source": [
        "#2. Is it your birthday AND are you 7 years old?\n",
        "\n",
        "birthday = str(input(\"Is it your birthday? (Yes/No)\"))\n",
        "age = int(input(\"What is your age? (Number only)\"))\n",
        "\n",
        "if birthday == \"Yes\":\n",
        "  if age == 7:\n",
        "    print(\"Wishing you a Very Happy 7th Birthday!\")\n",
        "  else:\n",
        "    print(\"Wishing you a Very Happy Birthday!\")\n",
        "else:\n",
        "  print(\"Okay! Have a good day!\")"
      ],
      "metadata": {
        "colab": {
          "base_uri": "https://localhost:8080/"
        },
        "id": "uOUXJjxTcDqr",
        "outputId": "f68c8ebb-94c6-4a3c-c0da-9f35f1ac74fd"
      },
      "execution_count": 16,
      "outputs": [
        {
          "output_type": "stream",
          "name": "stdout",
          "text": [
            "Is it your birthday? Yes\n",
            "What is your age? 4\n",
            "Wishing you a Very Happy Birthday!\n"
          ]
        }
      ]
    },
    {
      "cell_type": "code",
      "source": [
        "#3. What color is your balloon?\n",
        "\n",
        "colour = str(input(\"What colour is your balloon? (Red, Green, Blue, Yellow, Orange) \"))\n",
        "\n",
        "if colour == \"Red\":\n",
        "  print(\"The colour of your balloon is Red. \")\n",
        "\n",
        "elif colour == \"Green\":\n",
        "  print(\"The colour of your balloon is Green. \")\n",
        "\n",
        "elif colour == \"Blue\":\n",
        "  print(\"The colour of your balloon is Blue. \")\n",
        "\n",
        "elif colour == \"Yellow\":\n",
        "  print(\"The colour of your balloon is Yellow. \")\n",
        "\n",
        "elif colour == \"Orange\":\n",
        "  print(\"The colour of your balloon is Orange. \")\n",
        "\n",
        "else:\n",
        "  print(\"Others\")"
      ],
      "metadata": {
        "colab": {
          "base_uri": "https://localhost:8080/"
        },
        "id": "D9euM8ZpcLCS",
        "outputId": "e1c45a01-1408-40eb-ef8e-bcb62ef9f57c"
      },
      "execution_count": 18,
      "outputs": [
        {
          "output_type": "stream",
          "name": "stdout",
          "text": [
            "What colour is your balloon? (Red, Green, Blue, Yellow, Orange) Pink\n",
            "Others\n"
          ]
        }
      ]
    },
    {
      "cell_type": "code",
      "source": [
        "#4. Is the animal a dog or cat?\n",
        "\n",
        "animal = str(input(\"Is the animal a dog or cat? (dog/cat) \"))\n",
        "\n",
        "if animal == \"dog\":\n",
        "  print(\"You have a dog. \")\n",
        "elif animal == \"cat\":\n",
        "  print(\"You have a cat.\")\n",
        "else:\n",
        "  print(\"You have some other animal.\")"
      ],
      "metadata": {
        "colab": {
          "base_uri": "https://localhost:8080/"
        },
        "id": "deeG3yb1cKjk",
        "outputId": "f2a6c776-9cae-47a2-c6ab-d92736f79804"
      },
      "execution_count": 20,
      "outputs": [
        {
          "output_type": "stream",
          "name": "stdout",
          "text": [
            "Is the animal a dog or cat? (dog/cat) ant\n",
            "You have some other animal.\n"
          ]
        }
      ]
    },
    {
      "cell_type": "code",
      "source": [
        "#5. Are you wearing red shirt and blue jeans?"
      ],
      "metadata": {
        "id": "cIeGRQZ3cKbG"
      },
      "execution_count": null,
      "outputs": []
    },
    {
      "cell_type": "code",
      "source": [
        "#6. What number did you get on the test?"
      ],
      "metadata": {
        "id": "sjA6aaZHcKTI"
      },
      "execution_count": null,
      "outputs": []
    },
    {
      "cell_type": "code",
      "source": [
        "#7. Are you eating an apple and is it red?"
      ],
      "metadata": {
        "id": "3YMvbclLcKKd"
      },
      "execution_count": null,
      "outputs": []
    },
    {
      "cell_type": "code",
      "source": [
        "#8. Is the number even or odd?"
      ],
      "metadata": {
        "id": "y4lrumJGcKBl"
      },
      "execution_count": null,
      "outputs": []
    },
    {
      "cell_type": "code",
      "source": [
        "#9. What is your favorite color?"
      ],
      "metadata": {
        "id": "4jH_dWbacJ2x"
      },
      "execution_count": null,
      "outputs": []
    },
    {
      "cell_type": "code",
      "source": [
        "#10. What day is today?"
      ],
      "metadata": {
        "id": "aSiCOu9WcI4f"
      },
      "execution_count": null,
      "outputs": []
    }
  ]
}