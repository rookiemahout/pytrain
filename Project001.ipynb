{
  "nbformat": 4,
  "nbformat_minor": 0,
  "metadata": {
    "colab": {
      "provenance": [],
      "authorship_tag": "ABX9TyNBacsZUj93ylDgl/D3oYUK",
      "include_colab_link": true
    },
    "kernelspec": {
      "name": "python3",
      "display_name": "Python 3"
    },
    "language_info": {
      "name": "python"
    }
  },
  "cells": [
    {
      "cell_type": "markdown",
      "metadata": {
        "id": "view-in-github",
        "colab_type": "text"
      },
      "source": [
        "<a href=\"https://colab.research.google.com/github/rookiemahout/pytrain/blob/Local/Project001.ipynb\" target=\"_parent\"><img src=\"https://colab.research.google.com/assets/colab-badge.svg\" alt=\"Open In Colab\"/></a>"
      ]
    },
    {
      "cell_type": "code",
      "execution_count": 1,
      "metadata": {
        "id": "8IvcZR7UOow-",
        "colab": {
          "base_uri": "https://localhost:8080/"
        },
        "outputId": "885d53fa-759f-4709-b348-ae62e0281290"
      },
      "outputs": [
        {
          "output_type": "stream",
          "name": "stdout",
          "text": [
            "Lets play the game of ✌️✊🤚!\n",
            "⭐ round 1\n",
            "Choose any one option: \n",
            "1 rock ✊\n",
            "2 paper 🤚\n",
            "3 scissor ✌️\n",
            "Enter your choice as 1, 2 or 3: 1\n",
            "Computer chose scissor ✌️\n",
            "You win this round!\n",
            "⭐ round 2\n",
            "Choose any one option: \n",
            "1 rock ✊\n",
            "2 paper 🤚\n",
            "3 scissor ✌️\n",
            "Enter your choice as 1, 2 or 3: 2\n",
            "Computer chose paper 🤚\n",
            "It is a tie!\n",
            "⭐ round 3\n",
            "Choose any one option: \n",
            "1 rock ✊\n",
            "2 paper 🤚\n",
            "3 scissor ✌️\n",
            "Enter your choice as 1, 2 or 3: 4\n",
            "Computer chose scissor ✌️\n",
            "Computer won this round!\n",
            "⭐ round 4\n",
            "Choose any one option: \n",
            "1 rock ✊\n",
            "2 paper 🤚\n",
            "3 scissor ✌️\n",
            "Enter your choice as 1, 2 or 3: 1\n",
            "Computer chose rock ✊\n",
            "It is a tie!\n",
            "⭐ round 5\n",
            "Choose any one option: \n",
            "1 rock ✊\n",
            "2 paper 🤚\n",
            "3 scissor ✌️\n",
            "Enter your choice as 1, 2 or 3: 1\n",
            "Computer chose rock ✊\n",
            "It is a tie!\n",
            "Game over!\n"
          ]
        }
      ],
      "source": [
        "#✌️✊🤚\n",
        "\n",
        "import random\n",
        "round = 1\n",
        "user = 0\n",
        "computer = 0\n",
        "tie = 0\n",
        "print(\"Lets play the game of ✌️✊🤚!\")\n",
        "while round <= 5:\n",
        "    print(\"⭐ round\",round)\n",
        "    print(\"Choose any one option: \")\n",
        "    print(\"1 rock ✊\")\n",
        "    print(\"2 paper 🤚\")\n",
        "    print(\"3 scissor ✌️\")\n",
        "    choice = int(input(\"Enter your choice as 1, 2 or 3: \"))\n",
        "    opponent = random.randint(1,3)\n",
        "    if opponent == 1:\n",
        "        print(\"Computer chose rock ✊\")\n",
        "    elif opponent == 2:\n",
        "        print(\"Computer chose paper 🤚\")\n",
        "    else:\n",
        "        print(\"Computer chose scissor ✌️\")\n",
        "    if choice == opponent:\n",
        "        print(\"It is a tie!\")\n",
        "        tie = tie+1\n",
        "    elif (choice == 1 and opponent == 3)or\\\n",
        "         (choice == 2 and opponent == 1)or\\\n",
        "         (choice == 3 and opponent == 2):\n",
        "        print(\"You win this round!\")\n",
        "        user = user+1\n",
        "    else:\n",
        "        print(\"Computer won this round!\")\n",
        "        computer = computer+1\n",
        "    round = round+1\n",
        "print(\"Game over!\")"
      ]
    },
    {
      "cell_type": "code",
      "source": [],
      "metadata": {
        "id": "OX4AGUBbc6OG"
      },
      "execution_count": null,
      "outputs": []
    }
  ]
}