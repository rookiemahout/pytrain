{
  "nbformat": 4,
  "nbformat_minor": 0,
  "metadata": {
    "colab": {
      "provenance": [],
      "authorship_tag": "ABX9TyNoaOpUepnQ2ElgUQPPTHUj",
      "include_colab_link": true
    },
    "kernelspec": {
      "name": "python3",
      "display_name": "Python 3"
    },
    "language_info": {
      "name": "python"
    }
  },
  "cells": [
    {
      "cell_type": "markdown",
      "metadata": {
        "id": "view-in-github",
        "colab_type": "text"
      },
      "source": [
        "<a href=\"https://colab.research.google.com/github/rookiemahout/pytrain/blob/Local/22062025001.ipynb\" target=\"_parent\"><img src=\"https://colab.research.google.com/assets/colab-badge.svg\" alt=\"Open In Colab\"/></a>"
      ]
    },
    {
      "cell_type": "code",
      "execution_count": 4,
      "metadata": {
        "id": "kWyDs2ZUNMX7",
        "outputId": "7356111a-2ebc-4187-b2d3-a4a6bb1a776c",
        "colab": {
          "base_uri": "https://localhost:8080/"
        }
      },
      "outputs": [
        {
          "output_type": "stream",
          "name": "stdout",
          "text": [
            "****\n",
            "****\n",
            "****\n"
          ]
        }
      ],
      "source": [
        "\"\"\"\n",
        "1. Print a square of stars\n",
        "markdown\n",
        ".....................................................\n",
        "****\n",
        "****\n",
        "****\n",
        "Hint: Print 4 stars in 3 rows.\n",
        "Counter Tip: \"The row number starts at 1 and keeps adding 1. Each row prints 4 stars.\" Loops: Outer loop = 1 to 3 (rows); Inner loop = 1 to 4 (stars)\n",
        "\"\"\"\n",
        "#for star in range(1,5):\n",
        "#    for rows in range(1,4):\n",
        "\n",
        "# Outer loop for 3 rows\n",
        "for row in range(1, 4):\n",
        "    for star in range(1, 5):\n",
        "        print(\"*\", end=\"\")\n",
        "    print()  # Newline after each row\n",
        ""
      ]
    },
    {
      "cell_type": "code",
      "source": [],
      "metadata": {
        "id": "81L1B9wuOUMC"
      },
      "execution_count": null,
      "outputs": []
    }
  ]
}