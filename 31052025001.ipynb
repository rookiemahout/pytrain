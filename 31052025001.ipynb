{
  "nbformat": 4,
  "nbformat_minor": 0,
  "metadata": {
    "colab": {
      "provenance": [],
      "authorship_tag": "ABX9TyODudby1Fx0v3+Pp3re+smT",
      "include_colab_link": true
    },
    "kernelspec": {
      "name": "python3",
      "display_name": "Python 3"
    },
    "language_info": {
      "name": "python"
    }
  },
  "cells": [
    {
      "cell_type": "markdown",
      "metadata": {
        "id": "view-in-github",
        "colab_type": "text"
      },
      "source": [
        "<a href=\"https://colab.research.google.com/github/rookiemahout/pytrain/blob/Local/31052025001.ipynb\" target=\"_parent\"><img src=\"https://colab.research.google.com/assets/colab-badge.svg\" alt=\"Open In Colab\"/></a>"
      ]
    },
    {
      "cell_type": "code",
      "execution_count": null,
      "metadata": {
        "colab": {
          "base_uri": "https://localhost:8080/"
        },
        "id": "BctGwFNEOMCK",
        "outputId": "1851c9c7-0e13-41bb-f321-368f1f5e43c3"
      },
      "outputs": [
        {
          "output_type": "stream",
          "name": "stdout",
          "text": [
            "Enter a number:20\n",
            "Above ten,\n",
            "but not above 20.\n"
          ]
        }
      ],
      "source": [
        "#Example\n",
        "x = int(input(\"Enter a number:\"))\n",
        "\n",
        "if x > 10:\n",
        "  print(\"Above 10,\")\n",
        "  if x > 20:\n",
        "    print(\"and also above 20!\")\n",
        "  else:\n",
        "    print(\"but not above 20.\")\n",
        "else:\n",
        "  print(\"Below 10.\")"
      ]
    },
    {
      "cell_type": "code",
      "source": [
        "#1. Is your number greater than 5?\n",
        "\n",
        "num = int(input(\"Enter a number of your choice: \"))\n",
        "\n",
        "if num > 5:\n",
        "  print(\"The number is greater than 5.\")\n",
        "else:\n",
        "  print(\"The number is lesser than or equal to 5.\")"
      ],
      "metadata": {
        "colab": {
          "base_uri": "https://localhost:8080/"
        },
        "id": "KECnyfplbueS",
        "outputId": "b1319760-4b36-42e4-daf8-0813c5f251ed"
      },
      "execution_count": null,
      "outputs": [
        {
          "output_type": "stream",
          "name": "stdout",
          "text": [
            "Enter a number of your choice: 6\n",
            "The number is greater than 5.\n"
          ]
        }
      ]
    },
    {
      "cell_type": "code",
      "source": [
        "#2. Is it your birthday AND are you 7 years old?\n",
        "\n",
        "birthday = str(input(\"Is it your birthday? (Yes/No)\"))\n",
        "age = int(input(\"What is your age? (Number only)\"))\n",
        "\n",
        "if birthday.lower() == \"yes\":\n",
        "  if age == 7:\n",
        "    print(\"Wishing you a Very Happy 7th Birthday!\")\n",
        "  else:\n",
        "    print(\"Wishing you a Very Happy Birthday!\")\n",
        "else:\n",
        "  print(\"Okay! Have a good day!\")"
      ],
      "metadata": {
        "colab": {
          "base_uri": "https://localhost:8080/"
        },
        "id": "uOUXJjxTcDqr",
        "outputId": "353d9dd1-b965-4129-fa61-ceeee1602fb4"
      },
      "execution_count": 51,
      "outputs": [
        {
          "output_type": "stream",
          "name": "stdout",
          "text": [
            "Is it your birthday? (Yes/No)Yes\n",
            "What is your age? (Number only)7\n",
            "Wishing you a Very Happy 7th Birthday!\n"
          ]
        }
      ]
    },
    {
      "cell_type": "code",
      "source": [
        "#3. What color is your balloon?\n",
        "\n",
        "colour = str(input(\"What colour is your balloon? (Red, Green, Blue, Yellow, Orange) \"))\n",
        "\n",
        "if colour.lower() == \"red\":\n",
        "  print(\"The colour of your balloon is Red. \")\n",
        "\n",
        "elif colour.lower() == \"green\":\n",
        "  print(\"The colour of your balloon is Green. \")\n",
        "\n",
        "elif colour.lower() == \"blue\":\n",
        "  print(\"The colour of your balloon is Blue. \")\n",
        "\n",
        "elif colour.lower() == \"yellow\":\n",
        "  print(\"The colour of your balloon is Yellow. \")\n",
        "\n",
        "elif colour.lower() == \"orange\":\n",
        "  print(\"The colour of your balloon is Orange. \")\n",
        "\n",
        "else:\n",
        "  print(\"Others\")"
      ],
      "metadata": {
        "colab": {
          "base_uri": "https://localhost:8080/"
        },
        "id": "D9euM8ZpcLCS",
        "outputId": "e1c45a01-1408-40eb-ef8e-bcb62ef9f57c"
      },
      "execution_count": null,
      "outputs": [
        {
          "output_type": "stream",
          "name": "stdout",
          "text": [
            "What colour is your balloon? (Red, Green, Blue, Yellow, Orange) Pink\n",
            "Others\n"
          ]
        }
      ]
    },
    {
      "cell_type": "code",
      "source": [
        "#4. Is the animal a dog or cat?\n",
        "\n",
        "animal = str(input(\"Is the animal a dog or cat? (dog/cat) \"))\n",
        "\n",
        "if animal.lower() == \"dog\":\n",
        "  print(\"You have a dog. \")\n",
        "elif animal == \"cat\":\n",
        "  print(\"You have a cat.\")\n",
        "else:\n",
        "  print(\"You have some other animal.\")"
      ],
      "metadata": {
        "colab": {
          "base_uri": "https://localhost:8080/"
        },
        "id": "deeG3yb1cKjk",
        "outputId": "f2a6c776-9cae-47a2-c6ab-d92736f79804"
      },
      "execution_count": null,
      "outputs": [
        {
          "output_type": "stream",
          "name": "stdout",
          "text": [
            "Is the animal a dog or cat? (dog/cat) ant\n",
            "You have some other animal.\n"
          ]
        }
      ]
    },
    {
      "cell_type": "code",
      "source": [
        "\"\"\"\n",
        "5. Are you wearing red shirt and blue jeans?\n",
        "Try to only get a positive answer when the colour of the shirt and jeans are as mentioned above.\n",
        "\"\"\"\n",
        "shirt = str(input(\"What coloured shirt are you wearing? (Red/Others) \"))\n",
        "jeans = str(input(\"What coloured jeans are you wearing? (Blue/Others) \"))\n",
        "\n",
        "if shirt.lower() == \"red\":\n",
        "  if jeans.lower() == \"blue\":\n",
        "    print(\"Excellent outfit!\")\n",
        "  else:\n",
        "    print(\"Nice shirt!\")\n",
        "else:\n",
        "  print(\"Nice outfit!\")\n"
      ],
      "metadata": {
        "id": "cIeGRQZ3cKbG",
        "outputId": "eef0c49e-1749-4388-8dc6-220aa9d9cdd7",
        "colab": {
          "base_uri": "https://localhost:8080/"
        }
      },
      "execution_count": null,
      "outputs": [
        {
          "output_type": "stream",
          "name": "stdout",
          "text": [
            "What coloured shirt are you wearing? (Red/Others) Black\n",
            "What coloured jeans are you wearing? (Blue/Others) Blue\n",
            "Nice outfit!\n"
          ]
        }
      ]
    },
    {
      "cell_type": "code",
      "source": [
        "\"\"\"\n",
        "6. What number did you get on the test out of 100?\n",
        "- If you get 70 or above, return \"A Grade\".\n",
        "- If you get 50 or above but lesser than 70, return \"B Grade\".\n",
        "- If you get below 50, return \"C Grade\".\n",
        "\"\"\"\n",
        "\n"
      ],
      "metadata": {
        "id": "sjA6aaZHcKTI"
      },
      "execution_count": null,
      "outputs": []
    },
    {
      "cell_type": "code",
      "source": [
        "\"\"\"\n",
        "7. Are you eating an Apple and is it Red?\n",
        "\n",
        "If Apple is Red, return \"You are eating a Red Apple.\"\n",
        "If Apple is not Red, return \"Your Apple is yummy!\"\n",
        "If you are eating any other fruit, return \"Your fruit is very healthy!\"\n",
        "\"\"\"\n",
        "\n",
        "fruit = str(input(\"What fruit did you eat?\"))\n",
        "colour = str (input(\"What colour is the fruit?\"))\n",
        "\n",
        "if fruit.lower() == \"apple\":\n",
        "  if colour.lower() == \"red\":\n",
        "    print(\"You are eating a red apple\")\n",
        "  else:\n",
        "    print(\"Your apple is yummy!\")\n",
        "else:\n",
        "  print(\"Your fruit is very helthy!\")\n",
        "\n",
        "\n",
        "\n"
      ],
      "metadata": {
        "id": "3YMvbclLcKKd",
        "outputId": "24c18f68-ef19-4f77-d433-fda3ff319050",
        "colab": {
          "base_uri": "https://localhost:8080/"
        }
      },
      "execution_count": null,
      "outputs": [
        {
          "output_type": "stream",
          "name": "stdout",
          "text": [
            "What fruit did you eat?Apple\n",
            "What colour is the fruit?green\n",
            "Your apple is yummy!\n"
          ]
        }
      ]
    },
    {
      "cell_type": "code",
      "source": [
        "#8. Is the number even or odd?\n",
        "\n",
        "num = int(input(\"Enter a number: \"))\n",
        "\n",
        "if num % 2 == 0:\n",
        "    print(\"The number is even.\")\n",
        "else:\n",
        "    print(\"The number is odd.\")\n"
      ],
      "metadata": {
        "id": "y4lrumJGcKBl",
        "colab": {
          "base_uri": "https://localhost:8080/"
        },
        "outputId": "7a678855-1dd1-4cc6-a162-805ddf1789f2"
      },
      "execution_count": 49,
      "outputs": [
        {
          "output_type": "stream",
          "name": "stdout",
          "text": [
            "Enter a number: 93\n",
            "The number is odd.\n"
          ]
        }
      ]
    },
    {
      "cell_type": "code",
      "source": [
        "#9. What is your favorite color?\n",
        "colour = str(input(\"What is your favourite colour? \"))\n",
        "\n",
        "if colour.lower() == \"red\":\n",
        "    print(\"It is a very pretty colour. \")\n",
        "elif colour.lower() == \"green\":\n",
        "  print(\"It is the colour of grass.\")\n",
        "else:\n",
        "  print(\"It is a nice colour but not your favourite\")"
      ],
      "metadata": {
        "id": "4jH_dWbacJ2x",
        "colab": {
          "base_uri": "https://localhost:8080/"
        },
        "outputId": "54330335-0560-44c8-cd10-eecca4964523"
      },
      "execution_count": 44,
      "outputs": [
        {
          "output_type": "stream",
          "name": "stdout",
          "text": [
            "What is your favourite colour? green\n",
            "It is a nice colour but not your favourite\n"
          ]
        }
      ]
    },
    {
      "cell_type": "code",
      "source": [
        "#10. What day is today?"
      ],
      "metadata": {
        "id": "aSiCOu9WcI4f"
      },
      "execution_count": null,
      "outputs": []
    }
  ]
}