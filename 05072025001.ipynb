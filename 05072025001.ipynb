{
  "nbformat": 4,
  "nbformat_minor": 0,
  "metadata": {
    "colab": {
      "provenance": [],
      "authorship_tag": "ABX9TyO4Hif4xzTN3mgrvhwuyB8K",
      "include_colab_link": true
    },
    "kernelspec": {
      "name": "python3",
      "display_name": "Python 3"
    },
    "language_info": {
      "name": "python"
    }
  },
  "cells": [
    {
      "cell_type": "markdown",
      "metadata": {
        "id": "view-in-github",
        "colab_type": "text"
      },
      "source": [
        "<a href=\"https://colab.research.google.com/github/rookiemahout/pytrain/blob/Local/05072025001.ipynb\" target=\"_parent\"><img src=\"https://colab.research.google.com/assets/colab-badge.svg\" alt=\"Open In Colab\"/></a>"
      ]
    },
    {
      "cell_type": "code",
      "execution_count": 6,
      "metadata": {
        "id": "CTwMNI1xRLqi",
        "outputId": "f089559a-acf1-49fc-b276-9ba4a1af1c82",
        "colab": {
          "base_uri": "https://localhost:8080/"
        }
      },
      "outputs": [
        {
          "output_type": "stream",
          "name": "stdout",
          "text": [
            "T\n",
            "F\n",
            "a\n"
          ]
        }
      ],
      "source": [
        "str = \"TOFFEE\"\n",
        "print(str[0])\n",
        "str1 = str[3]\n",
        "print(str1)\n",
        "str2 = \"Its a sweet toffee\"\n",
        "print(str2[4])\n"
      ]
    },
    {
      "cell_type": "code",
      "source": [
        "a = \"hello\"\n",
        "b = \"world\"\n",
        "print(a+\" \"+b)\n",
        "\n",
        "print(len(a))\n",
        "\n",
        "print(a*2+b*4)"
      ],
      "metadata": {
        "id": "M6hrcg6fYBdr",
        "outputId": "92be6267-2bf8-4cfc-ac18-cce4badba29d",
        "colab": {
          "base_uri": "https://localhost:8080/"
        }
      },
      "execution_count": 10,
      "outputs": [
        {
          "output_type": "stream",
          "name": "stdout",
          "text": [
            "hello world\n",
            "5\n",
            "hellohelloworldworldworldworld\n"
          ]
        }
      ]
    },
    {
      "cell_type": "code",
      "source": [
        "a = \"sweet\"\n",
        "b = \"candy\"\n",
        "c = a.find(\"w\")\n",
        "print(c)\n",
        "d = b.find(\"n\")\n",
        "print(d)\n",
        "e = a.find(\"e\")\n",
        "print(e)\n",
        "f = a.count(\"e\")\n",
        "print(f)\n",
        "g = a.count(\"t\")\n",
        "print(g)\n",
        "h = b.count(\"h\")\n",
        "print(h)"
      ],
      "metadata": {
        "id": "0VoS0aybaYvz",
        "outputId": "06324c72-2ff6-4488-a198-eee51c166cda",
        "colab": {
          "base_uri": "https://localhost:8080/"
        }
      },
      "execution_count": 16,
      "outputs": [
        {
          "output_type": "stream",
          "name": "stdout",
          "text": [
            "1\n",
            "2\n",
            "2\n",
            "2\n",
            "1\n",
            "0\n"
          ]
        }
      ]
    },
    {
      "cell_type": "code",
      "source": [
        "a = \"sweet\"\n",
        "b = \"candy\"\n",
        "c = a.upper()\n",
        "print(c)\n",
        "d = c.lower()\n",
        "print(d)\n",
        "e = a.replace(\"t\",\"f\")\n",
        "print(e)\n",
        "f = b.replace(\"y\",\"le\")\n",
        "print(f)\n"
      ],
      "metadata": {
        "id": "YNKkdL5bcbEW",
        "outputId": "a145994f-9717-4b9b-e1f3-bdc6e5b62a61",
        "colab": {
          "base_uri": "https://localhost:8080/"
        }
      },
      "execution_count": 21,
      "outputs": [
        {
          "output_type": "stream",
          "name": "stdout",
          "text": [
            "SWEET\n",
            "sweet\n",
            "sweef\n",
            "candle\n"
          ]
        }
      ]
    },
    {
      "cell_type": "code",
      "source": [
        "a = \"sweet\"\n",
        "b = \"candy\"\n",
        "\n",
        "c = \"Python is a programming language.    \"\n",
        "print(c.strip())"
      ],
      "metadata": {
        "id": "8KSzc4S8eewv",
        "outputId": "a611f94c-0c16-4613-92c3-ed72f84f47a1",
        "colab": {
          "base_uri": "https://localhost:8080/"
        }
      },
      "execution_count": 23,
      "outputs": [
        {
          "output_type": "stream",
          "name": "stdout",
          "text": [
            "Python is a programming language.\n"
          ]
        }
      ]
    }
  ]
}