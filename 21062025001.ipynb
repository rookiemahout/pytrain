{
  "nbformat": 4,
  "nbformat_minor": 0,
  "metadata": {
    "colab": {
      "provenance": [],
      "authorship_tag": "ABX9TyMlJMI7z+g38JU5mob4enQY",
      "include_colab_link": true
    },
    "kernelspec": {
      "name": "python3",
      "display_name": "Python 3"
    },
    "language_info": {
      "name": "python"
    }
  },
  "cells": [
    {
      "cell_type": "markdown",
      "metadata": {
        "id": "view-in-github",
        "colab_type": "text"
      },
      "source": [
        "<a href=\"https://colab.research.google.com/github/rookiemahout/pytrain/blob/Local/21062025001.ipynb\" target=\"_parent\"><img src=\"https://colab.research.google.com/assets/colab-badge.svg\" alt=\"Open In Colab\"/></a>"
      ]
    },
    {
      "cell_type": "code",
      "execution_count": 1,
      "metadata": {
        "id": "_VU2O76VHx9u",
        "outputId": "2c4faffa-c5cd-4b93-ff81-a4ddc0748d04",
        "colab": {
          "base_uri": "https://localhost:8080/"
        }
      },
      "outputs": [
        {
          "output_type": "stream",
          "name": "stdout",
          "text": [
            "Bag 1\n",
            "Book 1\n",
            "Book 2\n",
            "Book 3\n",
            "Book 4\n",
            "Book 5\n",
            "Bag 2\n",
            "Book 1\n",
            "Book 2\n",
            "Book 3\n",
            "Book 4\n",
            "Book 5\n"
          ]
        }
      ],
      "source": [
        "for bag in range(1,3):\n",
        "    print(\"Bag\",bag)\n",
        "    for book in range(1,6):\n",
        "        print(\"Book\",book)"
      ]
    },
    {
      "cell_type": "code",
      "source": [
        "for basket in range(1,4):\n",
        "    print(\"Basket\",basket)\n",
        "    for balloon in range(1,5):\n",
        "        print(\"Balloon\",balloon)"
      ],
      "metadata": {
        "id": "OvyGBNWBRuFE",
        "outputId": "6c460d65-25d0-496d-c048-9295f11a2922",
        "colab": {
          "base_uri": "https://localhost:8080/"
        }
      },
      "execution_count": 2,
      "outputs": [
        {
          "output_type": "stream",
          "name": "stdout",
          "text": [
            "Basket 1\n",
            "Balloon 1\n",
            "Balloon 2\n",
            "Balloon 3\n",
            "Balloon 4\n",
            "Basket 2\n",
            "Balloon 1\n",
            "Balloon 2\n",
            "Balloon 3\n",
            "Balloon 4\n",
            "Basket 3\n",
            "Balloon 1\n",
            "Balloon 2\n",
            "Balloon 3\n",
            "Balloon 4\n"
          ]
        }
      ]
    },
    {
      "cell_type": "code",
      "source": [
        "for rows in range(1,9):\n",
        "    for num in range(1,8):\n",
        "        for num2 in range(1,4):\n",
        "            print(num2,end =\"\")\n",
        "    print()"
      ],
      "metadata": {
        "id": "w6YIV_1PSrg7",
        "outputId": "dd67f395-09ee-4feb-bec2-663c4913ccde",
        "colab": {
          "base_uri": "https://localhost:8080/"
        }
      },
      "execution_count": 12,
      "outputs": [
        {
          "output_type": "stream",
          "name": "stdout",
          "text": [
            "123123123123123123123\n",
            "123123123123123123123\n",
            "123123123123123123123\n",
            "123123123123123123123\n",
            "123123123123123123123\n",
            "123123123123123123123\n",
            "123123123123123123123\n",
            "123123123123123123123\n"
          ]
        }
      ]
    },
    {
      "cell_type": "code",
      "source": [
        "for rows in range(1,4):\n",
        "    for num in range(rows):"
      ],
      "metadata": {
        "id": "Omgq5ElPYD8X"
      },
      "execution_count": null,
      "outputs": []
    }
  ]
}