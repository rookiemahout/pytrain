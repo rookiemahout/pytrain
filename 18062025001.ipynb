{
  "nbformat": 4,
  "nbformat_minor": 0,
  "metadata": {
    "colab": {
      "provenance": [],
      "authorship_tag": "ABX9TyOs9gTvp5jBhJzxUW+tKXdK",
      "include_colab_link": true
    },
    "kernelspec": {
      "name": "python3",
      "display_name": "Python 3"
    },
    "language_info": {
      "name": "python"
    }
  },
  "cells": [
    {
      "cell_type": "markdown",
      "metadata": {
        "id": "view-in-github",
        "colab_type": "text"
      },
      "source": [
        "<a href=\"https://colab.research.google.com/github/rookiemahout/pytrain/blob/Local/18062025001.ipynb\" target=\"_parent\"><img src=\"https://colab.research.google.com/assets/colab-badge.svg\" alt=\"Open In Colab\"/></a>"
      ]
    },
    {
      "cell_type": "code",
      "execution_count": null,
      "metadata": {
        "colab": {
          "base_uri": "https://localhost:8080/"
        },
        "id": "trCOyAHKKBlu",
        "outputId": "c6979b72-b7a0-441f-abbc-b54edccd4c96"
      },
      "outputs": [
        {
          "output_type": "stream",
          "name": "stdout",
          "text": [
            "1\n",
            "2\n",
            "3\n",
            "4\n",
            "5\n"
          ]
        }
      ],
      "source": [
        "# Write a while loop to print numbers from 1 to 5.\n",
        "\n",
        "i=1\n",
        "while i <= 5:\n",
        "    print(i)\n",
        "    i=i+1"
      ]
    },
    {
      "cell_type": "code",
      "source": [
        "# Print your name 4 times using a while loop.\n",
        "\n",
        "i = 3\n",
        "while i <= 6:\n",
        "    print(\"Ahaan\")\n",
        "    i=i+1"
      ],
      "metadata": {
        "colab": {
          "base_uri": "https://localhost:8080/"
        },
        "id": "dndbmD7_K8IL",
        "outputId": "8c3182da-a631-458b-f79b-8911311edc45"
      },
      "execution_count": null,
      "outputs": [
        {
          "output_type": "stream",
          "name": "stdout",
          "text": [
            "Ahaan\n",
            "Ahaan\n",
            "Ahaan\n",
            "Ahaan\n"
          ]
        }
      ]
    },
    {
      "cell_type": "code",
      "source": [
        "# Use a while loop to count backward from 5 to 1.\n",
        "\n",
        "i=5\n",
        "while i >= 1:\n",
        "    print(i)\n",
        "    i=i-1"
      ],
      "metadata": {
        "colab": {
          "base_uri": "https://localhost:8080/"
        },
        "id": "1A5U7oa6K_0G",
        "outputId": "6acff731-d15e-4da1-c5fd-925eeed50123"
      },
      "execution_count": null,
      "outputs": [
        {
          "output_type": "stream",
          "name": "stdout",
          "text": [
            "5\n",
            "4\n",
            "3\n",
            "2\n",
            "1\n"
          ]
        }
      ]
    },
    {
      "cell_type": "code",
      "source": [
        "# Print “I love coding!” 3 times using a while loop.\n",
        "\n",
        "a = 1\n",
        "while a <= 3:\n",
        "    print(\"I love coding\")\n",
        "    a=a+1"
      ],
      "metadata": {
        "id": "a9tnW-QXLA-o",
        "outputId": "696b4386-9019-4164-be60-9f23bc6f0e30",
        "colab": {
          "base_uri": "https://localhost:8080/"
        }
      },
      "execution_count": null,
      "outputs": [
        {
          "output_type": "stream",
          "name": "stdout",
          "text": [
            "I love coding\n",
            "I love coding\n",
            "I love coding\n"
          ]
        }
      ]
    },
    {
      "cell_type": "code",
      "source": [
        "# Print numbers from 2 to 10 by skipping 2 each time.\n",
        "\n",
        "a = 2\n",
        "while a <= 10:\n",
        "    print(a)\n",
        "    a=a+2"
      ],
      "metadata": {
        "id": "eO0AlAvyLCIi",
        "outputId": "20a23447-85b9-40a3-cd98-12e2a54fdbe9",
        "colab": {
          "base_uri": "https://localhost:8080/"
        }
      },
      "execution_count": null,
      "outputs": [
        {
          "output_type": "stream",
          "name": "stdout",
          "text": [
            "2\n",
            "4\n",
            "6\n",
            "8\n",
            "10\n"
          ]
        }
      ]
    },
    {
      "cell_type": "code",
      "source": [
        "# Use a while loop to print a smiley face 😊 five times.\n",
        "\n",
        "a = 5\n",
        "while a <= 9:\n",
        "    print(\"😊\")\n",
        "    a=a+1"
      ],
      "metadata": {
        "id": "RnvEmtItLDRf",
        "outputId": "07fa6748-94e1-471f-9ef8-a5a7579aa798",
        "colab": {
          "base_uri": "https://localhost:8080/"
        }
      },
      "execution_count": null,
      "outputs": [
        {
          "output_type": "stream",
          "name": "stdout",
          "text": [
            "😊\n",
            "😊\n",
            "😊\n",
            "😊\n",
            "😊\n"
          ]
        }
      ]
    },
    {
      "cell_type": "code",
      "source": [
        "# Print 4 stars ★ using a while loop."
      ],
      "metadata": {
        "id": "cLuQ72snLEi6",
        "outputId": "290a9f0c-354a-482e-a2ab-251596031121",
        "colab": {
          "base_uri": "https://localhost:8080/"
        }
      },
      "execution_count": null,
      "outputs": [
        {
          "output_type": "stream",
          "name": "stdout",
          "text": [
            "★ 4\n"
          ]
        }
      ]
    },
    {
      "cell_type": "code",
      "source": [
        "# Make a line of 6 hearts ❤ with a while loop.\n",
        "\n",
        "a = 1\n",
        "while a <= 6:\n",
        "    print(\"❤\")\n",
        "    a=a+1"
      ],
      "metadata": {
        "id": "75BVzulgLGJQ",
        "outputId": "9b5176f4-5d38-4f35-98b2-b0c09200c05d",
        "colab": {
          "base_uri": "https://localhost:8080/"
        }
      },
      "execution_count": null,
      "outputs": [
        {
          "output_type": "stream",
          "name": "stdout",
          "text": [
            "❤\n",
            "❤\n",
            "❤\n",
            "❤\n",
            "❤\n",
            "❤\n"
          ]
        }
      ]
    },
    {
      "cell_type": "code",
      "source": [
        "# Print “Clap!” 3 times in a while loop.\n",
        "\n",
        "a = 0\n",
        "while a <= 2:\n",
        "    print(\"Clap!\")\n",
        "    a=a+1"
      ],
      "metadata": {
        "id": "RjYQjp-0LH7K",
        "outputId": "9b6417dc-76ec-40ac-b549-f7d9b8a9aa1c",
        "colab": {
          "base_uri": "https://localhost:8080/"
        }
      },
      "execution_count": null,
      "outputs": [
        {
          "output_type": "stream",
          "name": "stdout",
          "text": [
            "Clap!\n",
            "Clap!\n",
            "Clap!\n"
          ]
        }
      ]
    },
    {
      "cell_type": "code",
      "source": [
        "\"\"\"\n",
        "Print this pattern using a loop:\n",
        "1\n",
        "1 1\n",
        "1 1 1\n",
        "\"\"\"\n",
        "\n"
      ],
      "metadata": {
        "id": "PJDMsQKsLIgC",
        "outputId": "d4b33736-4695-4805-9e45-5f15fe405eb4",
        "colab": {
          "base_uri": "https://localhost:8080/",
          "height": 35
        }
      },
      "execution_count": 5,
      "outputs": [
        {
          "output_type": "execute_result",
          "data": {
            "text/plain": [
              "'\\nPrint this pattern using a loop:\\n1\\n1 1\\n1 1 1\\n'"
            ],
            "application/vnd.google.colaboratory.intrinsic+json": {
              "type": "string"
            }
          },
          "metadata": {},
          "execution_count": 5
        }
      ]
    },
    {
      "cell_type": "code",
      "source": [
        "# Write a while loop that asks the user to guess the number 5 until they get it right.\n",
        "\n",
        "a = 0\n",
        "while a != 5:\n",
        "    a = int(input(\"Guess a number:\"))\n",
        "print(\"You won the game!\")"
      ],
      "metadata": {
        "id": "r4Ofz0O4LLCh",
        "outputId": "d9bc41a3-36e9-48ff-bb67-c78820d57140",
        "colab": {
          "base_uri": "https://localhost:8080/"
        }
      },
      "execution_count": null,
      "outputs": [
        {
          "output_type": "stream",
          "name": "stdout",
          "text": [
            "Guess a number:4\n",
            "Guess a number:5\n",
            "You won the game!\n"
          ]
        }
      ]
    },
    {
      "cell_type": "code",
      "source": [
        "# Ask the user to keep typing until they type the word “stop”.\n",
        "\n",
        "a = \"\"\n",
        "while a.lower() != \"stop\":\n",
        "    a = str(input(\"Keep typing or type 'stop' \"))\n",
        "print(\"You have stopped typing.\")"
      ],
      "metadata": {
        "id": "FQMPW4vBLMXh",
        "outputId": "724db1c4-de9a-49c4-aea6-19bf8d96c973",
        "colab": {
          "base_uri": "https://localhost:8080/"
        }
      },
      "execution_count": null,
      "outputs": [
        {
          "output_type": "stream",
          "name": "stdout",
          "text": [
            "Keep typing or type 'stop' fffghbt\n",
            "Keep typing or type 'stop' stop[\n",
            "Keep typing or type 'stop' stop\n",
            "You have stopped typing.\n"
          ]
        }
      ]
    },
    {
      "cell_type": "code",
      "source": [
        "# Keep printing “Eat your food!” until a variable bites reaches 3.\n",
        "\n",
        "a = 0\n",
        "while a <= 2:\n",
        "    print(\"Eat your food!\")\n",
        "    a=a+1"
      ],
      "metadata": {
        "id": "flaZXzAcLNrR",
        "outputId": "47ab6cbe-f032-4575-cf05-2542bc74ed52",
        "colab": {
          "base_uri": "https://localhost:8080/"
        }
      },
      "execution_count": 3,
      "outputs": [
        {
          "output_type": "stream",
          "name": "stdout",
          "text": [
            "Eat your food!\n",
            "Eat your food!\n",
            "Eat your food!\n"
          ]
        }
      ]
    },
    {
      "cell_type": "code",
      "source": [
        "# Use a while loop to add numbers from 1 to 5 and print the total.\n",
        "\n"
      ],
      "metadata": {
        "id": "wzJTYXrRLQgC",
        "outputId": "e6cad1ed-e91e-4c97-d54c-228a6bcfcf60",
        "colab": {
          "base_uri": "https://localhost:8080/"
        }
      },
      "execution_count": 4,
      "outputs": [
        {
          "output_type": "stream",
          "name": "stdout",
          "text": [
            "Total: 15\n"
          ]
        }
      ]
    },
    {
      "cell_type": "code",
      "source": [
        "# You have 4 blocks. Use a loop to print “Jump and drop a block!” 4 times.\n",
        "\n",
        "a = 0\n",
        "while a <= 3:\n",
        "    print(\"Jump and drop a block!\")\n",
        "    a = a + 1"
      ],
      "metadata": {
        "id": "Len-VmZeLR1r",
        "outputId": "c8e7c021-4a2a-4563-c028-9607a7183671",
        "colab": {
          "base_uri": "https://localhost:8080/"
        }
      },
      "execution_count": 7,
      "outputs": [
        {
          "output_type": "stream",
          "name": "stdout",
          "text": [
            "Jump and drop a block!\n",
            "Jump and drop a block!\n",
            "Jump and drop a block!\n",
            "Jump and drop a block!\n"
          ]
        }
      ]
    },
    {
      "cell_type": "code",
      "source": [
        "# Pretend you are walking. Use a loop to print “Step 1”, “Step 2”, … till Step 5.\n",
        "\n",
        "a = 1\n",
        "while a <= 5:\n",
        "    print(\"Step\", a)\n",
        "    a = a + 1"
      ],
      "metadata": {
        "id": "wu3uYMGyLTRF",
        "outputId": "4c6ddb2f-f8af-4358-854c-e282c660f719",
        "colab": {
          "base_uri": "https://localhost:8080/"
        }
      },
      "execution_count": 8,
      "outputs": [
        {
          "output_type": "stream",
          "name": "stdout",
          "text": [
            "Step 1\n",
            "Step 2\n",
            "Step 3\n",
            "Step 4\n",
            "Step 5\n"
          ]
        }
      ]
    },
    {
      "cell_type": "code",
      "source": [
        "# While the weather is raining, print “Waiting inside…” 3 times.\n",
        "\n",
        "a = \"\"\n",
        "b = 1\n",
        "while a.lower() != \"raining\":\n",
        "    a = str(input(\"How is the weather like?\"))\n",
        "while b <= 3:\n",
        "    print(\"Waiting inside...\")\n",
        "    b = b + 1"
      ],
      "metadata": {
        "id": "Y39cAvRgLUb6",
        "outputId": "1f49284e-a2e9-4e27-dc19-a028e1101c02",
        "colab": {
          "base_uri": "https://localhost:8080/"
        }
      },
      "execution_count": 15,
      "outputs": [
        {
          "output_type": "stream",
          "name": "stdout",
          "text": [
            "How is the weather like?asdfgasd\n",
            "How is the weather like?raining\n",
            "Waiting inside...\n",
            "Waiting inside...\n",
            "Waiting inside...\n"
          ]
        }
      ]
    },
    {
      "cell_type": "code",
      "source": [
        "# Use a loop to print the word “Done!” only once (loop should run once)\n",
        "\n",
        "a = True\n",
        "\n",
        "while a:\n",
        "    print(\"Done!\")\n",
        "    a = False"
      ],
      "metadata": {
        "id": "pcF6qpO7LUvw",
        "outputId": "b547b343-e3c3-4b38-d968-c24c6eb43750",
        "colab": {
          "base_uri": "https://localhost:8080/"
        }
      },
      "execution_count": 24,
      "outputs": [
        {
          "output_type": "stream",
          "name": "stdout",
          "text": [
            "Done!\n"
          ]
        }
      ]
    }
  ]
}