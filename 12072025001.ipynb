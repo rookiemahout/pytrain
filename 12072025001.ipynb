{
  "nbformat": 4,
  "nbformat_minor": 0,
  "metadata": {
    "colab": {
      "provenance": [],
      "authorship_tag": "ABX9TyMl4K+WDBwa7ykDqTCcqOkm",
      "include_colab_link": true
    },
    "kernelspec": {
      "name": "python3",
      "display_name": "Python 3"
    },
    "language_info": {
      "name": "python"
    }
  },
  "cells": [
    {
      "cell_type": "markdown",
      "metadata": {
        "id": "view-in-github",
        "colab_type": "text"
      },
      "source": [
        "<a href=\"https://colab.research.google.com/github/rookiemahout/pytrain/blob/Local/12072025001.ipynb\" target=\"_parent\"><img src=\"https://colab.research.google.com/assets/colab-badge.svg\" alt=\"Open In Colab\"/></a>"
      ]
    },
    {
      "cell_type": "code",
      "execution_count": 1,
      "metadata": {
        "id": "K3kf2NvS1xzU",
        "outputId": "fd954a1b-dc50-42ac-cf55-75af8e43cb85",
        "colab": {
          "base_uri": "https://localhost:8080/"
        }
      },
      "outputs": [
        {
          "output_type": "stream",
          "name": "stdout",
          "text": [
            "python is easy\n"
          ]
        }
      ],
      "source": [
        "name = \"Python is Easy\"\n",
        "print(name.lower())"
      ]
    },
    {
      "cell_type": "code",
      "source": [
        "name = \"A cat and a bat sat on a mat.\"\n",
        "print(name.count(\"a\"))"
      ],
      "metadata": {
        "id": "qodRf5Z0N_Xa",
        "outputId": "04724b99-328a-46ea-9840-f8693623b3f1",
        "colab": {
          "base_uri": "https://localhost:8080/"
        }
      },
      "execution_count": 2,
      "outputs": [
        {
          "output_type": "stream",
          "name": "stdout",
          "text": [
            "7\n"
          ]
        }
      ]
    },
    {
      "cell_type": "code",
      "source": [
        "name = \"This is a bad idea.\"\n",
        "print(name.replace(\"bad\",\"good\"))"
      ],
      "metadata": {
        "id": "mDaUR1xZObpU",
        "outputId": "ea19ec92-3d90-4eff-9fa9-6172d6015327",
        "colab": {
          "base_uri": "https://localhost:8080/"
        }
      },
      "execution_count": 3,
      "outputs": [
        {
          "output_type": "stream",
          "name": "stdout",
          "text": [
            "This is a good idea.\n"
          ]
        }
      ]
    },
    {
      "cell_type": "code",
      "source": [
        "name = str(input(\"enter any input:\"))\n",
        "print(name[0])"
      ],
      "metadata": {
        "id": "tjckwuwyO1QI",
        "outputId": "b6d993f4-7d8e-48fc-c702-88ebfbc05e9c",
        "colab": {
          "base_uri": "https://localhost:8080/"
        }
      },
      "execution_count": 5,
      "outputs": [
        {
          "output_type": "stream",
          "name": "stdout",
          "text": [
            "enter any input:Ahaan\n",
            "A\n"
          ]
        }
      ]
    },
    {
      "cell_type": "code",
      "source": [
        "x = \"Python\"\n",
        "y = \"Rocks\"\n",
        "print(x+\" \"+y)"
      ],
      "metadata": {
        "id": "04b1u7glPqrr",
        "outputId": "2ae3a689-e4a1-4c30-eeee-a52894266b14",
        "colab": {
          "base_uri": "https://localhost:8080/"
        }
      },
      "execution_count": 8,
      "outputs": [
        {
          "output_type": "stream",
          "name": "stdout",
          "text": [
            "Python Rocks\n"
          ]
        }
      ]
    },
    {
      "cell_type": "code",
      "source": [
        "age = int(input(\"Enter your age:\"))\n",
        "\n",
        "if age >= 18:\n",
        "    print(\"you can vote.\")\n",
        "else:\n",
        "    print(\"you are too young.\")"
      ],
      "metadata": {
        "id": "jfuIqBcLQdZH",
        "outputId": "1c919dfe-a292-4a69-ce2f-490863555876",
        "colab": {
          "base_uri": "https://localhost:8080/"
        }
      },
      "execution_count": 10,
      "outputs": [
        {
          "output_type": "stream",
          "name": "stdout",
          "text": [
            "Enter your age:28\n",
            "you can vote.\n"
          ]
        }
      ]
    },
    {
      "cell_type": "code",
      "source": [
        "password = str(input(\"enter a password:\"))\n",
        "\n",
        "if password == \"admin123\":\n",
        "    print(\"Access granted!\")\n",
        "else:\n",
        "    print(\"Access denied\")"
      ],
      "metadata": {
        "id": "zMbKlNHJTFF2",
        "outputId": "5e42a54e-3587-4472-c695-9b8d0d4c5b58",
        "colab": {
          "base_uri": "https://localhost:8080/"
        }
      },
      "execution_count": 13,
      "outputs": [
        {
          "output_type": "stream",
          "name": "stdout",
          "text": [
            "enter a password:admin123\n",
            "Access granted!\n"
          ]
        }
      ]
    },
    {
      "cell_type": "code",
      "source": [
        "num = int(input(\"Enter a number:\"))\n",
        "\n",
        "if num > 0:\n",
        "    print(\"The number is positive!\")\n",
        "elif num < 0:\n",
        "    print(\"It is a negative number!\")\n",
        "elif num == 0:\n",
        "    print(\"The number is zero!\")\n",
        "else:\n",
        "    print(\"Enter a valid number!\")"
      ],
      "metadata": {
        "id": "6PBLelpQTVae",
        "outputId": "2614e495-c343-46ef-aafd-ccbffee0bba6",
        "colab": {
          "base_uri": "https://localhost:8080/"
        }
      },
      "execution_count": 19,
      "outputs": [
        {
          "output_type": "stream",
          "name": "stdout",
          "text": [
            "Enter a number:10000000000000000000000000000000000000\n",
            "The number is positive!\n"
          ]
        }
      ]
    },
    {
      "cell_type": "code",
      "source": [
        "num = int(input(\"Enter a number:\"))\n",
        "\n",
        "if num % 2 == 0:\n",
        "    print(\"It is an even number!\")\n",
        "else:\n",
        "    print(\"It is an odd number!\")"
      ],
      "metadata": {
        "id": "GErflO1OWZi0",
        "outputId": "9399483d-ae11-4644-90e8-bdbafbfbc6b6",
        "colab": {
          "base_uri": "https://localhost:8080/"
        }
      },
      "execution_count": 22,
      "outputs": [
        {
          "output_type": "stream",
          "name": "stdout",
          "text": [
            "Enter a number:8\n",
            "It is an even number!\n"
          ]
        }
      ]
    },
    {
      "cell_type": "code",
      "source": [
        "for i in range(1,6):\n",
        "    print(i)"
      ],
      "metadata": {
        "id": "IZlsYM8rXnMq",
        "outputId": "f0220b96-a42d-44c2-b5fc-0e40a3672a8f",
        "colab": {
          "base_uri": "https://localhost:8080/"
        }
      },
      "execution_count": 23,
      "outputs": [
        {
          "output_type": "stream",
          "name": "stdout",
          "text": [
            "1\n",
            "2\n",
            "3\n",
            "4\n",
            "5\n"
          ]
        }
      ]
    },
    {
      "cell_type": "code",
      "source": [
        "num = 10\n",
        "while num > 5:\n",
        "    print(num)\n",
        "    num=num-1"
      ],
      "metadata": {
        "id": "c5HLfGGwXxlo",
        "outputId": "faee7aa1-bdb8-4f11-ba83-7d8000c25527",
        "colab": {
          "base_uri": "https://localhost:8080/"
        }
      },
      "execution_count": 25,
      "outputs": [
        {
          "output_type": "stream",
          "name": "stdout",
          "text": [
            "10\n",
            "9\n",
            "8\n",
            "7\n",
            "6\n"
          ]
        }
      ]
    },
    {
      "cell_type": "code",
      "source": [
        "num = int(input(\"which table do you want?\"))\n",
        "\n",
        "for i in range(1,11):\n",
        "    print(num,\"x\",i,\"=\",num * i)"
      ],
      "metadata": {
        "id": "caRxnJ7FYvYJ",
        "outputId": "f14b66e2-1e46-4c24-822e-42a9e39b9d23",
        "colab": {
          "base_uri": "https://localhost:8080/"
        }
      },
      "execution_count": 27,
      "outputs": [
        {
          "output_type": "stream",
          "name": "stdout",
          "text": [
            "which table do you want?5\n",
            "5 x 1 = 5\n",
            "5 x 2 = 10\n",
            "5 x 3 = 15\n",
            "5 x 4 = 20\n",
            "5 x 5 = 25\n",
            "5 x 6 = 30\n",
            "5 x 7 = 35\n",
            "5 x 8 = 40\n",
            "5 x 9 = 45\n",
            "5 x 10 = 50\n"
          ]
        }
      ]
    },
    {
      "cell_type": "code",
      "source": [
        "text = \"\"\n",
        "while text != \"yes\":\n",
        "    text = str(input(\"please type yes.\"))"
      ],
      "metadata": {
        "id": "ESlM_M4paHhq",
        "outputId": "cfa28eeb-b9a0-4d76-f063-32f46f4720cc",
        "colab": {
          "base_uri": "https://localhost:8080/"
        }
      },
      "execution_count": 28,
      "outputs": [
        {
          "name": "stdout",
          "output_type": "stream",
          "text": [
            "please type yes.dhehudsrycyug\n",
            "please type yes.jjderfrhfhrttf\n",
            "please type yes.euhfrfytf\n",
            "please type yes.fjffy\n",
            "please type yes.yes\n"
          ]
        }
      ]
    },
    {
      "cell_type": "code",
      "source": [
        "for i in \"fun\":\n",
        "    print(i)"
      ],
      "metadata": {
        "id": "xk03mlg9as6e",
        "outputId": "ff6bfec6-5d25-4be7-d02a-036393d532e7",
        "colab": {
          "base_uri": "https://localhost:8080/"
        }
      },
      "execution_count": 29,
      "outputs": [
        {
          "output_type": "stream",
          "name": "stdout",
          "text": [
            "f\n",
            "u\n",
            "n\n"
          ]
        }
      ]
    }
  ]
}