{
  "nbformat": 4,
  "nbformat_minor": 0,
  "metadata": {
    "colab": {
      "provenance": [],
      "authorship_tag": "ABX9TyNnKHMt5MapBe3j95v5jMGO",
      "include_colab_link": true
    },
    "kernelspec": {
      "name": "python3",
      "display_name": "Python 3"
    },
    "language_info": {
      "name": "python"
    }
  },
  "cells": [
    {
      "cell_type": "markdown",
      "metadata": {
        "id": "view-in-github",
        "colab_type": "text"
      },
      "source": [
        "<a href=\"https://colab.research.google.com/github/rookiemahout/pytrain/blob/Local/31052025001.ipynb\" target=\"_parent\"><img src=\"https://colab.research.google.com/assets/colab-badge.svg\" alt=\"Open In Colab\"/></a>"
      ]
    },
    {
      "cell_type": "code",
      "execution_count": null,
      "metadata": {
        "colab": {
          "base_uri": "https://localhost:8080/"
        },
        "id": "BctGwFNEOMCK",
        "outputId": "1851c9c7-0e13-41bb-f321-368f1f5e43c3"
      },
      "outputs": [
        {
          "output_type": "stream",
          "name": "stdout",
          "text": [
            "Enter a number:20\n",
            "Above ten,\n",
            "but not above 20.\n"
          ]
        }
      ],
      "source": [
        "#Example\n",
        "x = int(input(\"Enter a number:\"))\n",
        "\n",
        "if x > 10:\n",
        "  print(\"Above 10,\")\n",
        "  if x > 20:\n",
        "    print(\"and also above 20!\")\n",
        "  else:\n",
        "    print(\"but not above 20.\")\n",
        "else:\n",
        "  print(\"Below 10.\")"
      ]
    },
    {
      "cell_type": "code",
      "source": [
        "#1. Is your number greater than 5?\n",
        "\n",
        "num = int(input(\"Enter a number of your choice: \"))\n",
        "\n",
        "if num > 5:\n",
        "  print(\"The number is greater than 5.\")\n",
        "else:\n",
        "  print(\"The number is lesser than or equal to 5.\")"
      ],
      "metadata": {
        "colab": {
          "base_uri": "https://localhost:8080/"
        },
        "id": "KECnyfplbueS",
        "outputId": "b1319760-4b36-42e4-daf8-0813c5f251ed"
      },
      "execution_count": null,
      "outputs": [
        {
          "output_type": "stream",
          "name": "stdout",
          "text": [
            "Enter a number of your choice: 6\n",
            "The number is greater than 5.\n"
          ]
        }
      ]
    },
    {
      "cell_type": "code",
      "source": [
        "#2. Is it your birthday AND are you 7 years old?\n",
        "\n",
        "birthday = str(input(\"Is it your birthday? (Yes/No)\"))\n",
        "age = int(input(\"What is your age? (Number only)\"))\n",
        "\n",
        "if birthday.lower() == \"yes\":\n",
        "  if age == 7:\n",
        "    print(\"Wishing you a Very Happy 7th Birthday!\")\n",
        "  else:\n",
        "    print(\"Wishing you a Very Happy Birthday!\")\n",
        "else:\n",
        "  print(\"Okay! Have a good day!\")"
      ],
      "metadata": {
        "colab": {
          "base_uri": "https://localhost:8080/"
        },
        "id": "uOUXJjxTcDqr",
        "outputId": "353d9dd1-b965-4129-fa61-ceeee1602fb4"
      },
      "execution_count": null,
      "outputs": [
        {
          "output_type": "stream",
          "name": "stdout",
          "text": [
            "Is it your birthday? (Yes/No)Yes\n",
            "What is your age? (Number only)7\n",
            "Wishing you a Very Happy 7th Birthday!\n"
          ]
        }
      ]
    },
    {
      "cell_type": "code",
      "source": [
        "#3. What color is your balloon?\n",
        "\n",
        "colour = str(input(\"What colour is your balloon? (Red, Green, Blue, Yellow, Orange) \"))\n",
        "\n",
        "if colour.lower() == \"red\":\n",
        "  print(\"The colour of your balloon is Red. \")\n",
        "\n",
        "elif colour.lower() == \"green\":\n",
        "  print(\"The colour of your balloon is Green. \")\n",
        "\n",
        "elif colour.lower() == \"blue\":\n",
        "  print(\"The colour of your balloon is Blue. \")\n",
        "\n",
        "elif colour.lower() == \"yellow\":\n",
        "  print(\"The colour of your balloon is Yellow. \")\n",
        "\n",
        "elif colour.lower() == \"orange\":\n",
        "  print(\"The colour of your balloon is Orange. \")\n",
        "\n",
        "else:\n",
        "  print(\"Others\")"
      ],
      "metadata": {
        "colab": {
          "base_uri": "https://localhost:8080/"
        },
        "id": "D9euM8ZpcLCS",
        "outputId": "e1c45a01-1408-40eb-ef8e-bcb62ef9f57c"
      },
      "execution_count": null,
      "outputs": [
        {
          "output_type": "stream",
          "name": "stdout",
          "text": [
            "What colour is your balloon? (Red, Green, Blue, Yellow, Orange) Pink\n",
            "Others\n"
          ]
        }
      ]
    },
    {
      "cell_type": "code",
      "source": [
        "#4. Is the animal a dog or cat?\n",
        "\n",
        "animal = str(input(\"Is the animal a dog or cat? (dog/cat) \"))\n",
        "\n",
        "if animal.lower() == \"dog\":\n",
        "  print(\"You have a dog. \")\n",
        "elif animal == \"cat\":\n",
        "  print(\"You have a cat.\")\n",
        "else:\n",
        "  print(\"You have some other animal.\")"
      ],
      "metadata": {
        "colab": {
          "base_uri": "https://localhost:8080/"
        },
        "id": "deeG3yb1cKjk",
        "outputId": "f2a6c776-9cae-47a2-c6ab-d92736f79804"
      },
      "execution_count": null,
      "outputs": [
        {
          "output_type": "stream",
          "name": "stdout",
          "text": [
            "Is the animal a dog or cat? (dog/cat) ant\n",
            "You have some other animal.\n"
          ]
        }
      ]
    },
    {
      "cell_type": "code",
      "source": [
        "\"\"\"\n",
        "5. Are you wearing red shirt and blue jeans?\n",
        "Try to only get a positive answer when the colour of the shirt and jeans are as\n",
        "mentioned above.\n",
        "\"\"\"\n",
        "shirt = str(input(\"What coloured shirt are you wearing? (Red/Others) \"))\n",
        "jeans = str(input(\"What coloured jeans are you wearing? (Blue/Others) \"))\n",
        "\n",
        "if shirt.lower() == \"red\":\n",
        "  if jeans.lower() == \"blue\":\n",
        "    print(\"Excellent outfit!\")\n",
        "  else:\n",
        "    print(\"Nice shirt!\")\n",
        "else:\n",
        "  print(\"Nice outfit!\")\n"
      ],
      "metadata": {
        "id": "cIeGRQZ3cKbG",
        "outputId": "eef0c49e-1749-4388-8dc6-220aa9d9cdd7",
        "colab": {
          "base_uri": "https://localhost:8080/"
        }
      },
      "execution_count": null,
      "outputs": [
        {
          "output_type": "stream",
          "name": "stdout",
          "text": [
            "What coloured shirt are you wearing? (Red/Others) Black\n",
            "What coloured jeans are you wearing? (Blue/Others) Blue\n",
            "Nice outfit!\n"
          ]
        }
      ]
    },
    {
      "cell_type": "code",
      "source": [
        " \"\"\"\n",
        "6. What number did you get on the test out of 100?\n",
        "- If you get 70 or above, return \"A Grade\".\n",
        "- If you get 50 or above but lesser than 70, return \"B Grade\".\n",
        "- If you get below 50, return \"C Grade\".\n",
        "\"\"\"\n",
        "\n",
        "number =  int(input(\"Enter a number: \"))\n",
        "\n",
        "if number >= 70 and number <=100:\n",
        "    print(\"You got A grade.\")\n",
        "elif number >= 50 and number < 70:\n",
        "    print(\"You got B grade.\")\n",
        "elif number < 50 and number >=0:\n",
        "    print(\"You got C grade.\")\n",
        "#elif number > 100: -----> This is not the right condition and is excluded\n",
        "# print(\"You have entered an invalid number!\") -----> This is not the right\n",
        "# condition and is excluded\n",
        "else:\n",
        "    print(\"You have entered an invalid number!\")"
      ],
      "metadata": {
        "id": "sjA6aaZHcKTI",
        "colab": {
          "base_uri": "https://localhost:8080/"
        },
        "outputId": "8282cd9f-5e31-4b81-a793-e1f357621caa"
      },
      "execution_count": null,
      "outputs": [
        {
          "output_type": "stream",
          "name": "stdout",
          "text": [
            "Enter a number: -1\n",
            "You have entered an invalid number!\n"
          ]
        }
      ]
    },
    {
      "cell_type": "code",
      "source": [
        "\"\"\"\n",
        "7. Are you eating an Apple and is it Red?\n",
        "\n",
        "If Apple is Red, return \"You are eating a Red Apple.\"\n",
        "If Apple is not Red, return \"Your Apple is yummy!\"\n",
        "If you are eating any other fruit, return \"Your fruit is very healthy!\"\n",
        "\"\"\"\n",
        "\n",
        "fruit = str(input(\"What fruit did you eat?\"))\n",
        "colour = str (input(\"What colour is the fruit?\"))\n",
        "\n",
        "if fruit.lower() == \"apple\":\n",
        "  if colour.lower() == \"red\":\n",
        "    print(\"You are eating a red apple\")\n",
        "  else:\n",
        "    print(\"Your apple is yummy!\")\n",
        "else:\n",
        "  print(\"Your fruit is very helthy!\")\n",
        "\n",
        "\n",
        "\n"
      ],
      "metadata": {
        "id": "3YMvbclLcKKd",
        "outputId": "24c18f68-ef19-4f77-d433-fda3ff319050",
        "colab": {
          "base_uri": "https://localhost:8080/"
        }
      },
      "execution_count": null,
      "outputs": [
        {
          "output_type": "stream",
          "name": "stdout",
          "text": [
            "What fruit did you eat?Apple\n",
            "What colour is the fruit?green\n",
            "Your apple is yummy!\n"
          ]
        }
      ]
    },
    {
      "cell_type": "code",
      "source": [
        "#8. Is the number even or odd?\n",
        "\n",
        "num = int(input(\"Enter a number: \"))\n",
        "\n",
        "if num % 2 == 0:\n",
        "    print(\"The number is even.\")\n",
        "else:\n",
        "    print(\"The number is odd.\")\n"
      ],
      "metadata": {
        "id": "y4lrumJGcKBl",
        "colab": {
          "base_uri": "https://localhost:8080/"
        },
        "outputId": "7a678855-1dd1-4cc6-a162-805ddf1789f2"
      },
      "execution_count": null,
      "outputs": [
        {
          "output_type": "stream",
          "name": "stdout",
          "text": [
            "Enter a number: 93\n",
            "The number is odd.\n"
          ]
        }
      ]
    },
    {
      "cell_type": "code",
      "source": [
        "#9. What is your favorite color?\n",
        "colour = str(input(\"What is your favourite colour? \"))\n",
        "\n",
        "if colour.lower() == \"red\":\n",
        "    print(\"It is a very pretty colour. \")\n",
        "elif colour.lower() == \"green\":\n",
        "  print(\"It is the colour of grass.\")\n",
        "else:\n",
        "  print(\"It is a nice colour but not your favourite\")"
      ],
      "metadata": {
        "id": "4jH_dWbacJ2x",
        "colab": {
          "base_uri": "https://localhost:8080/"
        },
        "outputId": "54330335-0560-44c8-cd10-eecca4964523"
      },
      "execution_count": null,
      "outputs": [
        {
          "output_type": "stream",
          "name": "stdout",
          "text": [
            "What is your favourite colour? green\n",
            "It is a nice colour but not your favourite\n"
          ]
        }
      ]
    },
    {
      "cell_type": "code",
      "source": [
        "\"\"\"\n",
        "10. What day is today?\n",
        "\n",
        "If user enters Sunday, ask if he wants to do cycling or skating or something else. Print according to the activity entered.\n",
        "If user enters Saturday, ask if he wants to play football or cricket or something else. Print according to the activity entered.\n",
        "If user enters any other day, print \"It is a school day.\"\n",
        "\"\"\"\n",
        "day = str(input(\"What day is today? \"))\n",
        "activity = str(input(\"What activity do you want to do? \"))\n",
        "\n",
        "\n",
        "if day.lower() == \"sunday\":\n",
        "    if activity.lower() == \"cycling\":\n",
        "        print(\"Ok, you can go for cycling.\")\n",
        "    elif activity.lower() == \"skating\":\n",
        "        print(\"Ok, you can go for skating.\")\n",
        "    else:\n",
        "        print(\"Have fun!\")\n",
        "elif day.lower() == \"saturday\":\n",
        "    if activity.lower() == \"football\":\n",
        "        print(\"Ok, you can play football.\")\n",
        "    elif activity.lower() == \"cricket\":\n",
        "        print(\"Ok, you can play cricket.\")\n",
        "    else:\n",
        "        print(\"Have fun!\")\n",
        "else:\n",
        "    print(\"You can't play today. It is a school day!\")\n"
      ],
      "metadata": {
        "id": "aSiCOu9WcI4f",
        "colab": {
          "base_uri": "https://localhost:8080/"
        },
        "outputId": "c73733c1-24a2-4119-a5e7-ec7a64b6e8bc"
      },
      "execution_count": null,
      "outputs": [
        {
          "output_type": "stream",
          "name": "stdout",
          "text": [
            "What day is today? thursday\n",
            "What activity do you want to do? racing\n",
            "You can't play today. It is a school day!\n"
          ]
        }
      ]
    },
    {
      "cell_type": "code",
      "source": [
        "\"\"\"\n",
        "What instrument do you play?\n",
        "If you play the Piano, play \"Love yourself\" or \"Beauty and the Beast\", return \"You played Song name really well on the Piano\"\n",
        "If you play the Guitar, play \"Happy Birthday\" or \"Summer of 69\",\n",
        "In case you play the \"Mouth Organ\", play \"Jurassic Park\" or \"Animals\".\n",
        "However, in case you plan any other instrument, return \"Choose your instrument wisely.\"\n",
        "\"\"\"\n",
        "instrument = str(input(\"What instrument do you play?\"))\n",
        "song = str(input(\"Which song do you want to play?\"))\n",
        "\n",
        "if instrument.lower() == \"piano\":\n",
        "    if song.lower() == \"beauty and the beast\":\n",
        "        print (\"You played Beauty and the Beast on the Piano\")\n",
        "    elif song.lower() == \"love yourself\":\n",
        "        print (\"You played Love Yourself on the Piano\")\n",
        "    else:\n",
        "        print(\"You cannot play this song on the piano.\")\n",
        "\n",
        "\n",
        "elif instrument.lower() == \"guitar\":\n",
        "    if song.lower() == \"happy birthday\":\n",
        "        print (\"You played Happy Birthday on the Guitar\")\n",
        "    elif song.lower() == \"summer of 69\":\n",
        "        print (\"You played Summer of 69 on the Guitar\")\n",
        "    else:\n",
        "        print(\"You cannot play this song on the guitar.\")\n",
        "\n",
        "\n",
        "elif instrument.lower() == \"mouth organ\":\n",
        "    if song.lower() == \"jurassic park\":\n",
        "        print (\"You played Jurassic Park on the Mouth Organ\")\n",
        "    elif song.lower() == \"animals\":\n",
        "        print (\"You played Animals on the Mouth Organ\")\n",
        "    else:\n",
        "        print(\"You cannot play this song on the mouth organ.\")\n",
        "\n",
        "\n",
        "else:\n",
        "    print(\"Choose your instrument wisely.\")\n"
      ],
      "metadata": {
        "id": "Nue0DiSi3myt"
      },
      "execution_count": null,
      "outputs": []
    },
    {
      "cell_type": "code",
      "source": [
        "\"\"\"\n",
        "If you go to Delhi, would you like to eat pudding or chole bature?\n",
        "If you go to Kolkata, would you like to eat futchka or chaat?\n",
        "If you go to Bangalore, would you like to eat dosa or idli?\n",
        "Otherwise, return \"Invalid Entry\"\n",
        "\"\"\"\n",
        "\n",
        "place = str(input(\"Which place do you want go?\"))\n",
        "food = str(input(\"What food do you want to eat?\"))\n",
        "\n",
        "if place.lower() == \"delhi\":\n",
        "    if food.lower() == \"pudding\":\n",
        "        print(\"You want to eat pudding in Delhi.\")\n",
        "    elif food.lower() == \"chole bature\":\n",
        "        print(\"You want to eat chole bature in Delhi.\")\n",
        "    else:\n",
        "        print(\"not available.\")\n",
        "elif place.lower() == \"kolkata\":\n",
        "    if food.lower() == \"futchka\":\n",
        "        print(\"You want to eat Futchka in Kolkata\")\n",
        "    elif food.lower() == \"chaat\":\n",
        "        print(\"You want to eat Chaat in Kolkata.\")\n",
        "    else:\n",
        "        print(\"Not available.\")\n",
        "elif place.lower() == \"bangalore\":\n",
        "    if food.lower() == \"dosa\":\n",
        "        print(\"You want to eat Dosa in Bangalore.\")\n",
        "    elif food.lower() == \"idli\":\n",
        "        print(\"You want to eat Idli in Bangalore.\")\n",
        "    else:\n",
        "        print(\"Not available.\")\n",
        "else:\n",
        "    print(\"Invalid entry!\")"
      ],
      "metadata": {
        "id": "etWjJGkk34dF",
        "outputId": "41b67c2a-715b-4742-e9dc-5a5fc44b2df6",
        "colab": {
          "base_uri": "https://localhost:8080/"
        }
      },
      "execution_count": 4,
      "outputs": [
        {
          "output_type": "stream",
          "name": "stdout",
          "text": [
            "Which place do you want go?pakistan\n",
            "What food do you want to eat?fish\n",
            "Invalid entry!\n"
          ]
        }
      ]
    }
  ]
}