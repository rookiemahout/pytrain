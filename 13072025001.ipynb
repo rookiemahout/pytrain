{
  "nbformat": 4,
  "nbformat_minor": 0,
  "metadata": {
    "colab": {
      "provenance": [],
      "authorship_tag": "ABX9TyNMkEd1+ACOhKqcfZ48VACq",
      "include_colab_link": true
    },
    "kernelspec": {
      "name": "python3",
      "display_name": "Python 3"
    },
    "language_info": {
      "name": "python"
    }
  },
  "cells": [
    {
      "cell_type": "markdown",
      "metadata": {
        "id": "view-in-github",
        "colab_type": "text"
      },
      "source": [
        "<a href=\"https://colab.research.google.com/github/rookiemahout/pytrain/blob/Local/13072025001.ipynb\" target=\"_parent\"><img src=\"https://colab.research.google.com/assets/colab-badge.svg\" alt=\"Open In Colab\"/></a>"
      ]
    },
    {
      "cell_type": "code",
      "execution_count": null,
      "metadata": {
        "id": "qYW8L8VA4h3d",
        "outputId": "ba239549-c64a-4117-d373-ada8845611fd",
        "colab": {
          "base_uri": "https://localhost:8080/"
        }
      },
      "outputs": [
        {
          "output_type": "stream",
          "name": "stdout",
          "text": [
            "18\n"
          ]
        }
      ],
      "source": [
        "\"\"\"\n",
        "A1. 1.\tWrite a program to print the length of this sentence:\n",
        "\"Python is amazing!\"\n",
        "\"\"\"\n",
        "\n",
        "a = \"Python is amazing!\"\n",
        "print(len(a))"
      ]
    },
    {
      "cell_type": "code",
      "source": [
        "\"\"\"\n",
        "A2.\tConvert the sentence \"HELLO, FRIENDS!\" to lowercase and print it.\n",
        "\"\"\"\n",
        "\n",
        "a = \"HELLO, FRIENDS!\"\n",
        "print(a.lower())"
      ],
      "metadata": {
        "id": "Bf4oJHS75pYx",
        "outputId": "e77ff094-0745-4ad0-f189-b4fc86ecab1e",
        "colab": {
          "base_uri": "https://localhost:8080/"
        }
      },
      "execution_count": null,
      "outputs": [
        {
          "output_type": "stream",
          "name": "stdout",
          "text": [
            "hello, friends!\n"
          ]
        }
      ]
    },
    {
      "cell_type": "code",
      "source": [
        "\"\"\"\n",
        "A3.\tTake a sentence from the user and count how many times 'e' appears in it.\n",
        "\"\"\"\n",
        "\n",
        "x = str(input(\"Enter a sentence: \"))\n",
        "\n",
        "print(x.count(\"e\"))"
      ],
      "metadata": {
        "id": "TDOAFNOc5xbf",
        "outputId": "98a969a0-3595-4daa-885c-73f5266cf207",
        "colab": {
          "base_uri": "https://localhost:8080/"
        }
      },
      "execution_count": null,
      "outputs": [
        {
          "output_type": "stream",
          "name": "stdout",
          "text": [
            "Enter a sentence: enter a sentence\n",
            "5\n"
          ]
        }
      ]
    },
    {
      "cell_type": "code",
      "source": [
        "\"\"\"\n",
        "A4.\tReplace \"rain\" with \"sun\" in this string:\n",
        "\"The rain is falling.\"\n",
        "\"\"\"\n",
        "\n",
        "a = \"The rain is falling.\"\n",
        "print(a.replace(\"rain\",\"sun\"))"
      ],
      "metadata": {
        "id": "IC8fmL-I50YX",
        "outputId": "81f03948-2156-4bea-d249-f03c975200fa",
        "colab": {
          "base_uri": "https://localhost:8080/"
        }
      },
      "execution_count": null,
      "outputs": [
        {
          "output_type": "stream",
          "name": "stdout",
          "text": [
            "The sun is falling.\n"
          ]
        }
      ]
    },
    {
      "cell_type": "code",
      "source": [
        "\"\"\"\n",
        "A5.\tAsk the user to enter their name and print only the first character.\n",
        "\"\"\"\n",
        "\n",
        "name = str(input(\"Enter your name: \"))\n",
        "\n",
        "print(name[0])"
      ],
      "metadata": {
        "id": "uVEzosEy51xf",
        "outputId": "3bae7ff2-4549-4e8d-a283-a4df3643f56c",
        "colab": {
          "base_uri": "https://localhost:8080/"
        }
      },
      "execution_count": null,
      "outputs": [
        {
          "output_type": "stream",
          "name": "stdout",
          "text": [
            "Enter your name: Avishek\n",
            "A\n"
          ]
        }
      ]
    },
    {
      "cell_type": "code",
      "source": [
        "\"\"\"\n",
        "A6.\tJoin the two strings \"Hello\" and \"World\" and print the result.\n",
        "\"\"\"\n",
        "a = \"Hello\"\n",
        "b = \"World\"\n",
        "\n",
        "print(a + \" \" + b)\n",
        "print(a,b)\n"
      ],
      "metadata": {
        "id": "Ksp78Bxv554b",
        "outputId": "b0437e66-68ee-4b97-a607-4fa5ccf9d887",
        "colab": {
          "base_uri": "https://localhost:8080/"
        }
      },
      "execution_count": null,
      "outputs": [
        {
          "output_type": "stream",
          "name": "stdout",
          "text": [
            "Hello World\n",
            "Hello World\n"
          ]
        }
      ]
    },
    {
      "cell_type": "code",
      "source": [
        "\"\"\"\n",
        "B7.\tUse a for loop to print numbers from 1 to 5.\n",
        "\"\"\"\n",
        "\n",
        "for i in range(1,6):\n",
        "    print(i)"
      ],
      "metadata": {
        "id": "KQ_8WDqI_SD_",
        "outputId": "581f7ce2-5f62-4fa3-f865-5747304a8729",
        "colab": {
          "base_uri": "https://localhost:8080/"
        }
      },
      "execution_count": null,
      "outputs": [
        {
          "output_type": "stream",
          "name": "stdout",
          "text": [
            "1\n",
            "2\n",
            "3\n",
            "4\n",
            "5\n"
          ]
        }
      ]
    },
    {
      "cell_type": "code",
      "source": [
        "\"\"\"\n",
        "B8.\tUse a while loop to print numbers from 7 down to 3.\n",
        "\"\"\"\n",
        "a = 7\n",
        "while a > 2:\n",
        "    print(a)\n",
        "    a = a-1"
      ],
      "metadata": {
        "id": "JAJL9cvr_YVP",
        "outputId": "3e8f12f6-2c3b-4c19-f8be-5d7ed05e07aa",
        "colab": {
          "base_uri": "https://localhost:8080/"
        }
      },
      "execution_count": null,
      "outputs": [
        {
          "output_type": "stream",
          "name": "stdout",
          "text": [
            "7\n",
            "6\n",
            "5\n",
            "4\n",
            "3\n"
          ]
        }
      ]
    },
    {
      "cell_type": "code",
      "source": [
        "\"\"\"\n",
        "B9.\tAsk the user to enter a number and print its table (1 to 10).\n",
        "\n",
        "3 * 1 = 3\n",
        "3 * 2 = 6\n",
        "3 * 3 = 9\n",
        "\"\"\"\n",
        "num = int(input(\"Enter a number: \"))\n",
        "\n",
        "for i in range(1,11):\n",
        "    print(num, \" x \", i, \" = \", (num * i))"
      ],
      "metadata": {
        "id": "ZnFdjWS2_bO7",
        "outputId": "9cd39477-6b92-4bed-af9d-c19b63c8230a",
        "colab": {
          "base_uri": "https://localhost:8080/"
        }
      },
      "execution_count": 4,
      "outputs": [
        {
          "output_type": "stream",
          "name": "stdout",
          "text": [
            "Enter a number: 3\n",
            "3  x  1  =  3\n",
            "3  x  2  =  6\n",
            "3  x  3  =  9\n",
            "3  x  4  =  12\n",
            "3  x  5  =  15\n",
            "3  x  6  =  18\n",
            "3  x  7  =  21\n",
            "3  x  8  =  24\n",
            "3  x  9  =  27\n",
            "3  x  10  =  30\n"
          ]
        }
      ]
    },
    {
      "cell_type": "code",
      "source": [
        "\"\"\"\n",
        "B10.\tKeep asking the user \"Do you want to continue?\" until they type \"yes\".\n",
        "\"\"\"\n",
        "\n",
        "while True:\n",
        "    x = input(\"Do you want to continue? \")\n",
        "    if x == \"yes\":\n",
        "        break"
      ],
      "metadata": {
        "id": "Lrbn0uOS_egO",
        "colab": {
          "base_uri": "https://localhost:8080/"
        },
        "outputId": "9770e9e7-605f-4f13-8411-f52dc44fdbe2"
      },
      "execution_count": 14,
      "outputs": [
        {
          "name": "stdout",
          "output_type": "stream",
          "text": [
            "Do you want to continue? d\n",
            "Do you want to continue? yes\n"
          ]
        }
      ]
    },
    {
      "cell_type": "code",
      "source": [
        "\"\"\"\n",
        "B11.\tPrint each character of the word \"Python\" using a loop.\n",
        "\"\"\"\n",
        "\n",
        "for i in \"Python\":\n",
        "    print(i)"
      ],
      "metadata": {
        "id": "FOYrP01u_hjr",
        "colab": {
          "base_uri": "https://localhost:8080/"
        },
        "outputId": "014dfc99-6596-4a46-ea30-edb39f288481"
      },
      "execution_count": 16,
      "outputs": [
        {
          "output_type": "stream",
          "name": "stdout",
          "text": [
            "P\n",
            "y\n",
            "t\n",
            "h\n",
            "o\n",
            "n\n"
          ]
        }
      ]
    },
    {
      "cell_type": "code",
      "source": [
        "\"\"\"\n",
        "C12.\tWrite a program to check if a number is positive, negative, or zero.\n",
        "\"\"\"\n",
        "\n",
        "num = int(input(\"Enter a number: \"))\n",
        "\n",
        "if num > 0:\n",
        "    print(\"It is a positive number.\")\n",
        "elif num < 0:\n",
        "    print(\"It is a negative number.\")\n",
        "else:\n",
        "    print(\"The number is Zero.\")"
      ],
      "metadata": {
        "colab": {
          "base_uri": "https://localhost:8080/"
        },
        "id": "1iJcc2RDApKe",
        "outputId": "2426129b-b2dc-4525-8bb4-7d9089b74004"
      },
      "execution_count": 19,
      "outputs": [
        {
          "output_type": "stream",
          "name": "stdout",
          "text": [
            "Enter a number: 0\n",
            "The number is Zero.\n"
          ]
        }
      ]
    },
    {
      "cell_type": "code",
      "source": [
        "\"\"\"\n",
        "C13.\tAsk the user for their age. If age is 12 or less, print \"You are a child.\", else print \"You are older than 12.\"\n",
        "\"\"\"\n",
        "\n",
        "age = int(input(\"Enter your age: \"))\n",
        "\n",
        "if age <= 12:\n",
        "    print(\"You are a child.\")\n",
        "else:\n",
        "    print(\"You are older than 12.\")"
      ],
      "metadata": {
        "colab": {
          "base_uri": "https://localhost:8080/"
        },
        "id": "zwByj44DBL6k",
        "outputId": "698d3239-25af-4a97-f7f5-cdf843ea0c77"
      },
      "execution_count": 20,
      "outputs": [
        {
          "output_type": "stream",
          "name": "stdout",
          "text": [
            "Enter your age: 5\n",
            "You are a child.\n"
          ]
        }
      ]
    },
    {
      "cell_type": "code",
      "source": [
        "\"\"\"\n",
        "C14.\tAsk the user to enter a number. If it is even, print \"Even\", otherwise print \"Odd\".\n",
        "\"\"\"\n",
        "\n",
        "num = int(input(\"Enter a number: \"))\n",
        "\n",
        "if num % 2 == 0:\n",
        "    print(\"Even\")\n",
        "else:\n",
        "    print(\"Odd\")"
      ],
      "metadata": {
        "colab": {
          "base_uri": "https://localhost:8080/"
        },
        "id": "l8OPXm-gBRDd",
        "outputId": "601bfe39-2cd3-47d4-b824-da3b6aab9282"
      },
      "execution_count": 21,
      "outputs": [
        {
          "output_type": "stream",
          "name": "stdout",
          "text": [
            "Enter a number: 5\n",
            "Odd\n"
          ]
        }
      ]
    },
    {
      "cell_type": "code",
      "source": [
        "\"\"\"\n",
        "C15.\tTake a password from the user. If it matches \"mypassword\", print \"Welcome!\", else print \"Wrong password\".\n",
        "\"\"\"\n",
        "\n",
        "import getpass\n",
        "x = getpass.getpass(\"Enter your password: \")\n",
        "\n",
        "if x == \"mypassword\":\n",
        "    print(\"Welcome!\")\n",
        "else:\n",
        "    print(\"Wrong password.\")"
      ],
      "metadata": {
        "colab": {
          "base_uri": "https://localhost:8080/"
        },
        "id": "iVR92j5hBTTx",
        "outputId": "0dcc3d07-0ee6-4489-990d-fe1b515a8a23"
      },
      "execution_count": 25,
      "outputs": [
        {
          "output_type": "stream",
          "name": "stdout",
          "text": [
            "Enter your password: ··········\n",
            "Welcome!\n"
          ]
        }
      ]
    },
    {
      "cell_type": "code",
      "source": [
        "\"\"\"\n",
        "D16.\tPrint this pattern using a loop:\n",
        "markdown\n",
        "......................................\n",
        "*\n",
        "* *\n",
        "* * *\n",
        "\"\"\"\n",
        "\n",
        "for row in range(1,4):\n",
        "    for col in range(1,row+1):\n",
        "        print(\"* \",end=\"\")\n",
        "    print()"
      ],
      "metadata": {
        "colab": {
          "base_uri": "https://localhost:8080/"
        },
        "id": "9cgkRFBfGw4h",
        "outputId": "f4eed084-6230-4c88-b66e-403244e5d24d"
      },
      "execution_count": 28,
      "outputs": [
        {
          "output_type": "stream",
          "name": "stdout",
          "text": [
            "* \n",
            "* * \n",
            "* * * \n"
          ]
        }
      ]
    },
    {
      "cell_type": "code",
      "source": [
        "\"\"\"\n",
        "D17.\tPrint this reverse pattern using a loop:\n",
        "markdown\n",
        "......................................\n",
        "* * *\n",
        "* *\n",
        "*\n",
        "\"\"\"\n",
        "\n",
        "for row in range(3,0,-1):\n",
        "    for col in range(1,row+1):\n",
        "        print(\"* \",end=\"\")\n",
        "    print()"
      ],
      "metadata": {
        "colab": {
          "base_uri": "https://localhost:8080/"
        },
        "id": "HUC_qj3WH7kr",
        "outputId": "b6b040b1-0c40-479c-9289-074bfd3d16be"
      },
      "execution_count": 38,
      "outputs": [
        {
          "output_type": "stream",
          "name": "stdout",
          "text": [
            "* * * \n",
            "* * \n",
            "* \n"
          ]
        }
      ]
    },
    {
      "cell_type": "code",
      "source": [
        "\"\"\"\n",
        "D18.\tPrint this square pattern of #:\n",
        "shell\n",
        "......................................\n",
        "# # #\n",
        "# # #\n",
        "# # #\n",
        "\"\"\"\n",
        "\n",
        "for i in range(1,4):\n",
        "    for col in range(1,4):\n",
        "        print(\"# \", end=\"\")\n",
        "    print()"
      ],
      "metadata": {
        "colab": {
          "base_uri": "https://localhost:8080/"
        },
        "id": "Hu_azOqIIDS9",
        "outputId": "4d82dcee-5df0-452a-8c83-f4fd0dbe7724"
      },
      "execution_count": 42,
      "outputs": [
        {
          "output_type": "stream",
          "name": "stdout",
          "text": [
            "# # # \n",
            "# # # \n",
            "# # # \n"
          ]
        }
      ]
    },
    {
      "cell_type": "code",
      "source": [
        "\"\"\"\n",
        "E19.\tAsk the user to enter two numbers. Add them and print the result.\n",
        "\"\"\"\n",
        "\n",
        "num1 = int(input(\"Enter the first number: \"))\n",
        "num2 = int(input(\"Enter the second number: \"))\n",
        "\n",
        "print(\"The sum of the two numbers is:\", num1 + num2)"
      ],
      "metadata": {
        "id": "JudJXJ-1L_GJ",
        "outputId": "3437aa7a-266a-4ea8-b7d6-9e8b150edaf7",
        "colab": {
          "base_uri": "https://localhost:8080/"
        }
      },
      "execution_count": 47,
      "outputs": [
        {
          "output_type": "stream",
          "name": "stdout",
          "text": [
            "Enter the first number: 6\n",
            "Enter the second number: 4\n",
            "The sum of the two numbers is: 10\n"
          ]
        }
      ]
    },
    {
      "cell_type": "code",
      "source": [
        "\"\"\"\n",
        "E20.\tAsk the user to enter their name and age. Print a message:\n",
        "\"Hi <name>, you are <age> years old.\"\n",
        "\"\"\"\n",
        "\n",
        "name = str(input(\"Enter your name: \"))\n",
        "age = int(input(\"Enter your age: \"))\n",
        "\n",
        "print(\"Hi\",name,\", you are\",age,\"years old.\")"
      ],
      "metadata": {
        "id": "NX6pX_GVMDtx",
        "outputId": "36bf0fbe-f187-40a8-94ea-d30b5e8e4ea8",
        "colab": {
          "base_uri": "https://localhost:8080/"
        }
      },
      "execution_count": 55,
      "outputs": [
        {
          "output_type": "stream",
          "name": "stdout",
          "text": [
            "Enter your name: Ahaan\n",
            "Enter your age: 5\n",
            "Hi Ahaan , you are 5 years old.\n"
          ]
        }
      ]
    },
    {
      "cell_type": "code",
      "source": [],
      "metadata": {
        "id": "6R4-nE-LNhzr"
      },
      "execution_count": 50,
      "outputs": []
    }
  ]
}