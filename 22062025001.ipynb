{
  "nbformat": 4,
  "nbformat_minor": 0,
  "metadata": {
    "colab": {
      "provenance": [],
      "authorship_tag": "ABX9TyMVWr/JvNf+pg+lrs6HndOZ",
      "include_colab_link": true
    },
    "kernelspec": {
      "name": "python3",
      "display_name": "Python 3"
    },
    "language_info": {
      "name": "python"
    }
  },
  "cells": [
    {
      "cell_type": "markdown",
      "metadata": {
        "id": "view-in-github",
        "colab_type": "text"
      },
      "source": [
        "<a href=\"https://colab.research.google.com/github/rookiemahout/pytrain/blob/Local/22062025001.ipynb\" target=\"_parent\"><img src=\"https://colab.research.google.com/assets/colab-badge.svg\" alt=\"Open In Colab\"/></a>"
      ]
    },
    {
      "cell_type": "code",
      "execution_count": null,
      "metadata": {
        "id": "kWyDs2ZUNMX7",
        "outputId": "7356111a-2ebc-4187-b2d3-a4a6bb1a776c",
        "colab": {
          "base_uri": "https://localhost:8080/"
        }
      },
      "outputs": [
        {
          "output_type": "stream",
          "name": "stdout",
          "text": [
            "****\n",
            "****\n",
            "****\n"
          ]
        }
      ],
      "source": [
        "\"\"\"\n",
        "1. Print a square of stars\n",
        "markdown\n",
        ".....................................................\n",
        "****\n",
        "****\n",
        "****\n",
        "Hint: Print 4 stars in 3 rows.\n",
        "Counter Tip: \"The row number starts at 1 and keeps adding 1. Each row prints 4 stars.\" Loops: Outer loop = 1 to 3 (rows); Inner loop = 1 to 4 (stars)\n",
        "\"\"\"\n",
        "#for star in range(1,5):\n",
        "#    for rows in range(1,4):\n",
        "\n",
        "# Outer loop for 3 rows\n",
        "for row in range(1, 4):\n",
        "    for star in range(1, 5):\n",
        "        print(\"*\", end=\"\")\n",
        "    print()  # Newline after each row\n"
      ]
    },
    {
      "cell_type": "code",
      "source": [
        "\"\"\"\n",
        "2. Print a triangle of numbers\n",
        ".....................................................\n",
        "1\n",
        "12\n",
        "123\n",
        "Hint: Add one more number in each row.\n",
        "Counter Tip: \"Row 1 has 1 number, row 2 has 2...\"\n",
        "Loops: Outer loop = 1 to 3; Inner loop = 1 to current row number\n",
        "\"\"\"\n",
        "\n",
        "for row in range(1,4):\n",
        "    for num in range(1,row+1):\n",
        "        print(num, end=\"\")\n",
        "    print()"
      ],
      "metadata": {
        "id": "81L1B9wuOUMC",
        "colab": {
          "base_uri": "https://localhost:8080/"
        },
        "outputId": "674a9fe2-f91b-4ad8-ea46-1aeef1add88d"
      },
      "execution_count": 2,
      "outputs": [
        {
          "output_type": "stream",
          "name": "stdout",
          "text": [
            "1\n",
            "12\n",
            "123\n"
          ]
        }
      ]
    },
    {
      "cell_type": "code",
      "source": [
        "\"\"\"\n",
        "3. Print stars in increasing order\n",
        "markdown\n",
        ".....................................................\n",
        "*\n",
        "**\n",
        "***\n",
        "****\n",
        "Hint: Each row has more stars than before.\n",
        "Counter Tip: \"We add one more star each time.\"\n",
        "Loops: Outer loop = 1 to 4; Inner loop = 1 to row number\n",
        "\"\"\"\n",
        "\n",
        "for row in range(1,5):\n",
        "    for star in range(1,row+1):\n",
        "        print(\"*\", end=\"\")\n",
        "    print()"
      ],
      "metadata": {
        "colab": {
          "base_uri": "https://localhost:8080/"
        },
        "id": "Q17u5fqvRZ-u",
        "outputId": "ebf900b4-85a0-476d-99fd-7086052140a7"
      },
      "execution_count": 4,
      "outputs": [
        {
          "output_type": "stream",
          "name": "stdout",
          "text": [
            "*\n",
            "**\n",
            "***\n",
            "****\n"
          ]
        }
      ]
    },
    {
      "cell_type": "code",
      "source": [
        "\"\"\"\n",
        "4. Print a number square\n",
        ".....................................................\n",
        "111\n",
        "222\n",
        "333\n",
        "444\n",
        "Hint: Repeat the same number in each row.\n",
        "Counter Tip: \"Row 1 → three 1s, row 2 → three 2s...\"\n",
        "Loops: Outer loop = 1 to 3; Inner loop = 1 to 3\n",
        "\"\"\"\n",
        "\n",
        "for row in range(1,5,1):\n",
        "    for col in range(1,5,1):\n",
        "        print(row, end=\"\")\n",
        "    print()"
      ],
      "metadata": {
        "id": "kFPcAgZZTLMk",
        "outputId": "e5a7111c-b761-40f0-fc5e-f2067660518e",
        "colab": {
          "base_uri": "https://localhost:8080/"
        }
      },
      "execution_count": 8,
      "outputs": [
        {
          "output_type": "stream",
          "name": "stdout",
          "text": [
            "1111\n",
            "2222\n",
            "3333\n",
            "4444\n"
          ]
        }
      ]
    },
    {
      "cell_type": "code",
      "source": [
        "\"\"\"\n",
        "5. Print a reverse triangle\n",
        "yaml\n",
        ".....................................................\n",
        "1234\n",
        "123\n",
        "12\n",
        "1\n",
        "Hint: Remove one number from the end each row.\n",
        "Counter Tip: \"We start big and shrink.\"\n",
        "Loops: Outer loop = 4 down to 1; Inner loop = 1 to current row number\n",
        "\"\"\"\n",
        "\n",
        "for row in range(6,0,-1):\n",
        "    for num in range(1, row+1):\n",
        "        print(num, end=\"\")\n",
        "    print()"
      ],
      "metadata": {
        "id": "L9df4MBhUpHT",
        "outputId": "18324feb-8468-44b3-ca63-42420f98f0e6",
        "colab": {
          "base_uri": "https://localhost:8080/"
        }
      },
      "execution_count": 19,
      "outputs": [
        {
          "output_type": "stream",
          "name": "stdout",
          "text": [
            "123456\n",
            "12345\n",
            "1234\n",
            "123\n",
            "12\n",
            "1\n"
          ]
        }
      ]
    },
    {
      "cell_type": "code",
      "source": [
        "\"\"\"\n",
        "6. Print increasing numbers in triangle\n",
        ".....................................................\n",
        "1\n",
        "2 3\n",
        "4 5 6\n",
        "Hint: Start from 1 and keep going up without restarting.\n",
        "Counter Tip: \"Never start over — just keep counting.\"\n",
        "Loops: Outer loop = 1 to 3; Inner loop = 1 to row number; use counter variable increasing\n",
        "\"\"\"\n",
        "\n",
        "counter = 1\n",
        "\n",
        "for row in range(1,4):\n",
        "    for col in range(1, row  + 1):\n",
        "        print(counter, \"\", end=\"\")\n",
        "        counter += 2\n",
        "    print()"
      ],
      "metadata": {
        "id": "MYhyPKoUXagM",
        "outputId": "a65d1883-f3d8-47d4-ffa4-5ee1e1dc2a28",
        "colab": {
          "base_uri": "https://localhost:8080/"
        }
      },
      "execution_count": 23,
      "outputs": [
        {
          "output_type": "stream",
          "name": "stdout",
          "text": [
            "1 \n",
            "3 5 \n",
            "7 9 11 \n"
          ]
        }
      ]
    },
    {
      "cell_type": "code",
      "source": [
        "\"\"\"\n",
        "7. Print even number triangle\n",
        ".....................................................\n",
        "2\n",
        "2 4\n",
        "2 4 6\n",
        "Hint: Show even numbers in each row.\n",
        "Counter Tip: \"Use 2, 4, 6... based on the position.\"\n",
        "Loops: Outer loop = 1 to 3; Inner loop = 1 to row number; use 2 * j\n",
        "\"\"\"\n",
        "\n",
        "for row in range(1,4):\n",
        "    for col in range(1, row + 1):\n",
        "        print(col*2, end=\"\")\n",
        "    print()"
      ],
      "metadata": {
        "id": "nqrGZQJDZ01M",
        "outputId": "c1bd4f63-963f-4906-f02d-991dec22cd7b",
        "colab": {
          "base_uri": "https://localhost:8080/"
        }
      },
      "execution_count": 26,
      "outputs": [
        {
          "output_type": "stream",
          "name": "stdout",
          "text": [
            "2\n",
            "24\n",
            "246\n"
          ]
        }
      ]
    },
    {
      "cell_type": "code",
      "source": [
        "\"\"\"\n",
        "8. Print symbols triangle\n",
        "ruby\n",
        ".....................................................\n",
        "$\n",
        "$$\n",
        "$$$\n",
        "$$$$\n",
        "Hint: Add one more $ each row.\n",
        "Counter Tip: \"Each new row adds one more symbol.\"\n",
        "Loops: Outer loop = 1 to 4; Inner loop = 1 to row number\n",
        "\"\"\"\n",
        "\n",
        "for row in range(1,5):\n",
        "    for dollar in range(1, row + 1):\n",
        "        print(\"$\",end=\"\")\n",
        "    print()"
      ],
      "metadata": {
        "id": "dzidFSswbV1m",
        "outputId": "c55178e6-32f5-454c-fb46-bc4a7bf0defb",
        "colab": {
          "base_uri": "https://localhost:8080/"
        }
      },
      "execution_count": 28,
      "outputs": [
        {
          "output_type": "stream",
          "name": "stdout",
          "text": [
            "$\n",
            "$$\n",
            "$$$\n",
            "$$$$\n"
          ]
        }
      ]
    },
    {
      "cell_type": "code",
      "source": [
        "\"\"\"\n",
        "9. Rows of stars from input\n",
        "(Input any number n, then print n rows of stars)\n",
        "Hint: Ask the user for how many rows to print.\n",
        "Counter Tip: \"If they say 5, print 5 rows!\"\n",
        "Loops: Outer loop = 1 to input; Inner loop = 1 to your choice (like 1 or more stars)\n",
        "\"\"\"\n",
        "\n",
        "x = int(input(\"Enter the number of rows of stars: \"))\n",
        "\n",
        "for row in range(1,x):\n",
        "    for dollar in range(1, row + 1):\n",
        "        print(\"*\",end=\"\")\n",
        "    print()"
      ],
      "metadata": {
        "id": "Zl5eQ0YwczGo",
        "outputId": "b9f0f4df-7516-4e23-c07e-26e116c5bb54",
        "colab": {
          "base_uri": "https://localhost:8080/"
        }
      },
      "execution_count": 31,
      "outputs": [
        {
          "output_type": "stream",
          "name": "stdout",
          "text": [
            "Enter the number of rows of stars: 8\n",
            "*\n",
            "**\n",
            "***\n",
            "****\n",
            "*****\n",
            "******\n",
            "*******\n"
          ]
        }
      ]
    },
    {
      "cell_type": "code",
      "source": [
        "\"\"\"\n",
        "10. Print number and its double\n",
        ".....................................................\n",
        "1 2\n",
        "2 4\n",
        "3 6\n",
        "Hint: Show the number and then double it.\n",
        "Counter Tip: \"1 becomes 2, 2 becomes 4, 3 becomes 6 – like magic!\" Loops: One loop = 1 to 3; print i and i × 2\n",
        "\"\"\"\n",
        "\n",
        "for row in range(1,4):\n",
        "    print(row, row * 2)"
      ],
      "metadata": {
        "id": "iS4pUL0odz3I",
        "outputId": "4a50d85a-8d50-4add-9571-a15e6f8358f1",
        "colab": {
          "base_uri": "https://localhost:8080/"
        }
      },
      "execution_count": 39,
      "outputs": [
        {
          "output_type": "stream",
          "name": "stdout",
          "text": [
            "1 2\n",
            "2 4\n",
            "3 6\n"
          ]
        }
      ]
    },
    {
      "cell_type": "code",
      "source": [
        "\"\"\"\n",
        "11. Print number and its square\n",
        ".....................................................\n",
        "1 1\n",
        "2 4\n",
        "3 9\n",
        "Hint: Show the number and its square.\n",
        "Counter Tip: \"Write the number and multiply it by itself.\"\n",
        "Loops: One loop = 1 to 3; print i and i × i\n",
        "\"\"\"\n",
        "\n",
        "for row in range(1,4):\n",
        "    print(row, row * row)"
      ],
      "metadata": {
        "id": "ZY2aW9Bcfn-p",
        "outputId": "3236cb53-384c-4406-dd2d-0a112b2e63b6",
        "colab": {
          "base_uri": "https://localhost:8080/"
        }
      },
      "execution_count": 41,
      "outputs": [
        {
          "output_type": "stream",
          "name": "stdout",
          "text": [
            "1 1\n",
            "2 4\n",
            "3 9\n"
          ]
        }
      ]
    },
    {
      "cell_type": "code",
      "source": [
        "\"\"\"\n",
        "12. Print square of numbers\n",
        ".....................................................\n",
        "1 2 3\n",
        "1 2 3\n",
        "1 2 3\n",
        "Hint: Same row repeated three times.\n",
        "Counter Tip: \"Each row counts from 1 to 3.\"\n",
        "Loops: Outer loop = 1 to 3; Inner loop = 1 to 3\n",
        "\"\"\"\n",
        "\n",
        "for row in range(1,4):\n",
        "    for col in range(1, 4, 1):\n",
        "        print(col, end=\"\")\n",
        "    print()"
      ],
      "metadata": {
        "id": "SxMWiEClgHAt",
        "outputId": "52d9a86a-48d6-4996-f54c-ba894a4a5538",
        "colab": {
          "base_uri": "https://localhost:8080/"
        }
      },
      "execution_count": 42,
      "outputs": [
        {
          "output_type": "stream",
          "name": "stdout",
          "text": [
            "123\n",
            "123\n",
            "123\n"
          ]
        }
      ]
    },
    {
      "cell_type": "code",
      "source": [
        "\"\"\"\n",
        "13. Mirrored triangle of stars\n",
        "markdown\n",
        "....................................................\n",
        "*\n",
        "**\n",
        "***\n",
        "Hint: Put spaces before the stars.\n",
        "Counter Tip: \"Spaces go down, stars go up!\"\n",
        "Loops: Outer = 1 to 3; Inner1 = 1 to (3 − row) spaces; Inner2 = 1 to row stars\n",
        "\"\"\"\n",
        "\n",
        "rows = 6\n",
        "for row in range(1, rows + 1):\n",
        "    space = \" \" * (rows - row)\n",
        "    stars = \"*\" * row\n",
        "    print(space, stars)"
      ],
      "metadata": {
        "id": "g_GF64-gg8i-",
        "outputId": "6fb47b3f-592a-4d8c-d1dc-f9b39235e6bb",
        "colab": {
          "base_uri": "https://localhost:8080/"
        }
      },
      "execution_count": 47,
      "outputs": [
        {
          "output_type": "stream",
          "name": "stdout",
          "text": [
            "      *\n",
            "     **\n",
            "    ***\n",
            "   ****\n",
            "  *****\n",
            " ******\n"
          ]
        }
      ]
    }
  ]
}