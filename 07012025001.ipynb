{
  "nbformat": 4,
  "nbformat_minor": 0,
  "metadata": {
    "colab": {
      "provenance": [],
      "authorship_tag": "ABX9TyOMEMFme51kvGwSxUkHDzCk",
      "include_colab_link": true
    },
    "kernelspec": {
      "name": "python3",
      "display_name": "Python 3"
    },
    "language_info": {
      "name": "python"
    }
  },
  "cells": [
    {
      "cell_type": "markdown",
      "metadata": {
        "id": "view-in-github",
        "colab_type": "text"
      },
      "source": [
        "<a href=\"https://colab.research.google.com/github/rookiemahout/pytrain/blob/Local/07012025001.ipynb\" target=\"_parent\"><img src=\"https://colab.research.google.com/assets/colab-badge.svg\" alt=\"Open In Colab\"/></a>"
      ]
    },
    {
      "cell_type": "code",
      "execution_count": 1,
      "metadata": {
        "id": "FleGku1ySn3Q",
        "outputId": "fe3feff4-9134-4dc8-d020-1ce88f0c02c5",
        "colab": {
          "base_uri": "https://localhost:8080/"
        }
      },
      "outputs": [
        {
          "output_type": "stream",
          "name": "stdout",
          "text": [
            "0\n",
            "1\n",
            "2\n",
            "3\n",
            "4\n"
          ]
        }
      ],
      "source": [
        "for i in range(5):\n",
        "    print(i)"
      ]
    },
    {
      "cell_type": "code",
      "source": [
        "for i in range(1,9):\n",
        "    print(i)"
      ],
      "metadata": {
        "id": "hhv7Ov3QTGO8",
        "outputId": "3e64b5b1-de55-4d7d-89a9-fdbaa58414fe",
        "colab": {
          "base_uri": "https://localhost:8080/"
        }
      },
      "execution_count": 2,
      "outputs": [
        {
          "output_type": "stream",
          "name": "stdout",
          "text": [
            "1\n",
            "2\n",
            "3\n",
            "4\n",
            "5\n",
            "6\n",
            "7\n",
            "8\n"
          ]
        }
      ]
    },
    {
      "cell_type": "code",
      "source": [
        "for i in range(1,9,4):\n",
        "    print(i)"
      ],
      "metadata": {
        "id": "DCW5LgFBTcPz",
        "outputId": "ae1e96c8-93d8-44a1-d426-2c76e27618d4",
        "colab": {
          "base_uri": "https://localhost:8080/"
        }
      },
      "execution_count": 3,
      "outputs": [
        {
          "output_type": "stream",
          "name": "stdout",
          "text": [
            "1\n",
            "5\n"
          ]
        }
      ]
    },
    {
      "cell_type": "code",
      "source": [
        "for i in range(2,11,2):\n",
        "    print(i)"
      ],
      "metadata": {
        "id": "vrcWNr6pUBUd",
        "outputId": "da565d90-13e3-4b9b-8cb2-f45c1b0cfd98",
        "colab": {
          "base_uri": "https://localhost:8080/"
        }
      },
      "execution_count": 4,
      "outputs": [
        {
          "output_type": "stream",
          "name": "stdout",
          "text": [
            "2\n",
            "4\n",
            "6\n",
            "8\n",
            "10\n"
          ]
        }
      ]
    },
    {
      "cell_type": "code",
      "source": [
        "for i in range(5,0,-2):\n",
        "    print(i)"
      ],
      "metadata": {
        "id": "7Wu9o3YNUlrT",
        "outputId": "9920e3ed-d0cd-4b52-bf09-2f1f8c793b10",
        "colab": {
          "base_uri": "https://localhost:8080/"
        }
      },
      "execution_count": 5,
      "outputs": [
        {
          "output_type": "stream",
          "name": "stdout",
          "text": [
            "5\n",
            "3\n",
            "1\n"
          ]
        }
      ]
    },
    {
      "cell_type": "code",
      "source": [
        "for i in range(5,0,-1):\n",
        "    print(i)"
      ],
      "metadata": {
        "id": "DHKnzavAVHQq",
        "outputId": "5115c612-86ff-499c-9b87-f7a208535a09",
        "colab": {
          "base_uri": "https://localhost:8080/"
        }
      },
      "execution_count": 6,
      "outputs": [
        {
          "output_type": "stream",
          "name": "stdout",
          "text": [
            "5\n",
            "4\n",
            "3\n",
            "2\n",
            "1\n"
          ]
        }
      ]
    },
    {
      "cell_type": "code",
      "source": [
        "for i in range(6):\n",
        "    print(\"A haan\")"
      ],
      "metadata": {
        "id": "FLT1El6yVe5x",
        "outputId": "e464e022-d420-4d1d-e652-1a4f8cb5b54a",
        "colab": {
          "base_uri": "https://localhost:8080/"
        }
      },
      "execution_count": 9,
      "outputs": [
        {
          "output_type": "stream",
          "name": "stdout",
          "text": [
            "Ahaan\n",
            "Ahaan\n",
            "Ahaan\n",
            "Ahaan\n",
            "Ahaan\n",
            "Ahaan\n"
          ]
        }
      ]
    },
    {
      "cell_type": "code",
      "source": [
        "name = \"i love coding\"\n",
        "for i in name:\n",
        "    print(i)"
      ],
      "metadata": {
        "id": "E82cbK3wV7NL",
        "outputId": "a668bc76-1806-4cf7-ed50-25141a7dd936",
        "colab": {
          "base_uri": "https://localhost:8080/"
        }
      },
      "execution_count": 11,
      "outputs": [
        {
          "output_type": "stream",
          "name": "stdout",
          "text": [
            "i\n",
            " \n",
            "l\n",
            "o\n",
            "v\n",
            "e\n",
            " \n",
            "c\n",
            "o\n",
            "d\n",
            "i\n",
            "n\n",
            "g\n"
          ]
        }
      ]
    },
    {
      "cell_type": "code",
      "source": [
        "for i in range(1,11):\n",
        "    print(\"3 x \" ,i, \" = \", i*3)"
      ],
      "metadata": {
        "id": "DwZpJgrRXTCk",
        "outputId": "1934f3b3-ed30-447e-ad47-565877185ecb",
        "colab": {
          "base_uri": "https://localhost:8080/"
        }
      },
      "execution_count": 13,
      "outputs": [
        {
          "output_type": "stream",
          "name": "stdout",
          "text": [
            "3 x  1  =  3\n",
            "3 x  2  =  6\n",
            "3 x  3  =  9\n",
            "3 x  4  =  12\n",
            "3 x  5  =  15\n",
            "3 x  6  =  18\n",
            "3 x  7  =  21\n",
            "3 x  8  =  24\n",
            "3 x  9  =  27\n",
            "3 x  10  =  30\n"
          ]
        }
      ]
    }
  ]
}