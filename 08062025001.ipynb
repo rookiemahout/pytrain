{
  "nbformat": 4,
  "nbformat_minor": 0,
  "metadata": {
    "colab": {
      "provenance": [],
      "authorship_tag": "ABX9TyNV1anVszOu7xROVFWXJRy2",
      "include_colab_link": true
    },
    "kernelspec": {
      "name": "python3",
      "display_name": "Python 3"
    },
    "language_info": {
      "name": "python"
    }
  },
  "cells": [
    {
      "cell_type": "markdown",
      "metadata": {
        "id": "view-in-github",
        "colab_type": "text"
      },
      "source": [
        "<a href=\"https://colab.research.google.com/github/rookiemahout/pytrain/blob/Local/08062025001.ipynb\" target=\"_parent\"><img src=\"https://colab.research.google.com/assets/colab-badge.svg\" alt=\"Open In Colab\"/></a>"
      ]
    },
    {
      "cell_type": "code",
      "execution_count": null,
      "metadata": {
        "id": "VzrJp5v56pDZ"
      },
      "outputs": [],
      "source": [
        "#1.\tPrint numbers from 1 to 5 using a for loop.\n"
      ]
    },
    {
      "cell_type": "code",
      "source": [
        "#2.\tPrint numbers from 10 to 15 using a for loop.\n"
      ],
      "metadata": {
        "id": "SUkTdD_y7bAs"
      },
      "execution_count": null,
      "outputs": []
    },
    {
      "cell_type": "code",
      "source": [
        "#3.\tPrint your name 5 times using a for loop.\n",
        ""
      ],
      "metadata": {
        "id": "8IeMAndV7dsj"
      },
      "execution_count": null,
      "outputs": []
    },
    {
      "cell_type": "code",
      "source": [
        "#4.\tPrint “Hello!” 3 times using a for loop.\n"
      ],
      "metadata": {
        "id": "wjqTdTc17jEK"
      },
      "execution_count": null,
      "outputs": []
    },
    {
      "cell_type": "code",
      "source": [
        "#5.\tPrint even numbers from 2 to 10 using a for loop.\n"
      ],
      "metadata": {
        "id": "zjV2flIg7lrU"
      },
      "execution_count": null,
      "outputs": []
    },
    {
      "cell_type": "code",
      "source": [
        "#6.\tPrint odd numbers from 1 to 9 using a for loop.\n"
      ],
      "metadata": {
        "id": "RzLcggqi7oC3"
      },
      "execution_count": null,
      "outputs": []
    },
    {
      "cell_type": "code",
      "source": [
        "#7.\tPrint numbers from 5 to 1 in reverse order.\n"
      ],
      "metadata": {
        "id": "YtzmMIGM7q8f"
      },
      "execution_count": null,
      "outputs": []
    },
    {
      "cell_type": "code",
      "source": [
        "#8.\tPrint “I love coding!” 4 times using a for loop.\n"
      ],
      "metadata": {
        "id": "qYQHAVzF7tkA"
      },
      "execution_count": null,
      "outputs": []
    },
    {
      "cell_type": "code",
      "source": [
        "#9.\tPrint the word “Python” 6 times using a for loop.\n"
      ],
      "metadata": {
        "id": "Eh-Dmm_E7vVk"
      },
      "execution_count": null,
      "outputs": []
    },
    {
      "cell_type": "code",
      "source": [
        "#10.\tPrint the smiley emoji 😊 five times using a for loop.\n"
      ],
      "metadata": {
        "id": "Olex5BRg7xfY"
      },
      "execution_count": null,
      "outputs": []
    },
    {
      "cell_type": "code",
      "source": [
        "#11.\tPrint the word “Wow!” 3 times using a for loop.\n"
      ],
      "metadata": {
        "id": "eXRFhPje7zJ0"
      },
      "execution_count": null,
      "outputs": []
    },
    {
      "cell_type": "code",
      "source": [
        "#12.\tUse a for loop to print the numbers from 1 to 10.\n"
      ],
      "metadata": {
        "id": "WNF7pudu71HS"
      },
      "execution_count": null,
      "outputs": []
    },
    {
      "cell_type": "code",
      "source": [
        "#13.\tUse a for loop to print the first 5 multiples of 3.\n"
      ],
      "metadata": {
        "id": "Qzn-YT7h73Kg"
      },
      "execution_count": null,
      "outputs": []
    },
    {
      "cell_type": "code",
      "source": [
        "#14.\tPrint a triangle shape with stars using a for loop.\n"
      ],
      "metadata": {
        "id": "Kk4LEo16745J"
      },
      "execution_count": null,
      "outputs": []
    },
    {
      "cell_type": "code",
      "source": [
        "#15.\tUse a for loop to print the letters in the word “Cat”.\n"
      ],
      "metadata": {
        "id": "lkf6unwI76Zt"
      },
      "execution_count": null,
      "outputs": []
    },
    {
      "cell_type": "code",
      "source": [
        "#16.\tUse a for loop to print numbers from 0 to 3.\n"
      ],
      "metadata": {
        "id": "38KWaQK078Sq"
      },
      "execution_count": null,
      "outputs": []
    },
    {
      "cell_type": "code",
      "source": [
        "#17.\tUse a for loop to print the word “Great!” 2 times.\n"
      ],
      "metadata": {
        "id": "BBoWYY2X798e"
      },
      "execution_count": null,
      "outputs": []
    },
    {
      "cell_type": "code",
      "source": [
        "#18.\tPrint the table of 2 using a for loop.\n"
      ],
      "metadata": {
        "id": "ntEdH6X77_q4"
      },
      "execution_count": null,
      "outputs": []
    },
    {
      "cell_type": "code",
      "source": [
        "#19.\tPrint 4 hearts (❤) using a for loop.\n"
      ],
      "metadata": {
        "id": "ba1aQ1cs8BtD"
      },
      "execution_count": null,
      "outputs": []
    },
    {
      "cell_type": "code",
      "source": [
        "#20.\tPrint numbers from 1 to 20 but skip 2 each time.\n"
      ],
      "metadata": {
        "id": "4ACwBNgq8EKZ"
      },
      "execution_count": null,
      "outputs": []
    }
  ]
}