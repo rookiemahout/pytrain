{
  "nbformat": 4,
  "nbformat_minor": 0,
  "metadata": {
    "colab": {
      "provenance": [],
      "authorship_tag": "ABX9TyPPIYlvA//mfGn9pgUv6Akx",
      "include_colab_link": true
    },
    "kernelspec": {
      "name": "python3",
      "display_name": "Python 3"
    },
    "language_info": {
      "name": "python"
    }
  },
  "cells": [
    {
      "cell_type": "markdown",
      "metadata": {
        "id": "view-in-github",
        "colab_type": "text"
      },
      "source": [
        "<a href=\"https://colab.research.google.com/github/rookiemahout/pytrain/blob/Local/10072025001.ipynb\" target=\"_parent\"><img src=\"https://colab.research.google.com/assets/colab-badge.svg\" alt=\"Open In Colab\"/></a>"
      ]
    },
    {
      "cell_type": "code",
      "execution_count": 28,
      "metadata": {
        "id": "faKuryUpvIk2",
        "outputId": "1dfc995b-dd11-4fc4-89c2-7627586b2fe4",
        "colab": {
          "base_uri": "https://localhost:8080/"
        }
      },
      "outputs": [
        {
          "output_type": "stream",
          "name": "stdout",
          "text": [
            "34\n"
          ]
        }
      ],
      "source": [
        "\"\"\"\n",
        "1.\tWhat is the length of the string:\n",
        "\"The sun is shining brightly today.\"\n",
        "\"\"\"\n",
        "\n",
        "x = \"The sun is shining brightly today.\"\n",
        "print(len(x))"
      ]
    },
    {
      "cell_type": "code",
      "source": [
        "\"\"\"\n",
        "2.\tPrint the first character of this string:\n",
        "\"Learning Python is fun!\"\n",
        "\"\"\"\n",
        "\n",
        "x = \"Learning Python is fun!\"\n",
        "print(x[0])"
      ],
      "metadata": {
        "id": "mxvUefZ9sXYE",
        "outputId": "ea444ceb-24b8-4e99-8eca-ef7816d52068",
        "colab": {
          "base_uri": "https://localhost:8080/"
        }
      },
      "execution_count": 29,
      "outputs": [
        {
          "output_type": "stream",
          "name": "stdout",
          "text": [
            "L\n"
          ]
        }
      ]
    },
    {
      "cell_type": "code",
      "source": [
        "\"\"\"\n",
        "3.\tPrint the last character of this sentence:\n",
        "\"We are going to the zoo.\"\n",
        "\"\"\"\n",
        "\n",
        "x = \"We are going to the zoo.\"\n",
        "print(x[-1])"
      ],
      "metadata": {
        "id": "vdMbbvDwsY1j",
        "outputId": "0415b10a-1ee7-4459-e4cf-5593201dd4fd",
        "colab": {
          "base_uri": "https://localhost:8080/"
        }
      },
      "execution_count": 30,
      "outputs": [
        {
          "output_type": "stream",
          "name": "stdout",
          "text": [
            ".\n"
          ]
        }
      ]
    },
    {
      "cell_type": "code",
      "source": [
        "\"\"\"\n",
        "4.\tConvert this sentence to uppercase:\n",
        "\"I love reading books.\"\n",
        "\"\"\"\n",
        "\n",
        "x = \"I love reading books.\"\n",
        "print(x.upper())"
      ],
      "metadata": {
        "id": "PDGjWM00saPV",
        "outputId": "67d82df0-c851-4b4d-9338-6c091a7229f1",
        "colab": {
          "base_uri": "https://localhost:8080/"
        }
      },
      "execution_count": 31,
      "outputs": [
        {
          "output_type": "stream",
          "name": "stdout",
          "text": [
            "I LOVE READING BOOKS.\n"
          ]
        }
      ]
    },
    {
      "cell_type": "code",
      "source": [
        "\"\"\"\n",
        "5.\tConvert this sentence to lowercase:\n",
        "\"PYTHON IS EASY TO LEARN.\"\n",
        "\"\"\"\n",
        "\n",
        "x = \"PYTHON IS EASY TO LEARN.\"\n",
        "print(x.lower())"
      ],
      "metadata": {
        "id": "L8eAX-n6sbeE",
        "outputId": "e08fb43f-d246-4da0-cd45-05030acf333e",
        "colab": {
          "base_uri": "https://localhost:8080/"
        }
      },
      "execution_count": 32,
      "outputs": [
        {
          "output_type": "stream",
          "name": "stdout",
          "text": [
            "python is easy to learn.\n"
          ]
        }
      ]
    },
    {
      "cell_type": "code",
      "source": [
        "\"\"\"\n",
        "6.\tFind the position of the first \"o\" in this string:\n",
        "\"Coding is interesting.\"\n",
        "\"\"\"\n",
        "\n",
        "x = \"Coding is interesting.\"\n",
        "print(x.find(\"o\"))"
      ],
      "metadata": {
        "id": "xvL7ySWHscwD",
        "outputId": "b50c6721-4575-4698-ec40-a690e81ee129",
        "colab": {
          "base_uri": "https://localhost:8080/"
        }
      },
      "execution_count": 33,
      "outputs": [
        {
          "output_type": "stream",
          "name": "stdout",
          "text": [
            "1\n"
          ]
        }
      ]
    },
    {
      "cell_type": "code",
      "source": [
        "\"\"\"\n",
        "7.\tReplace the word \"apple\" with \"orange\" in this sentence:\n",
        "\"I ate an apple in the morning.\"\n",
        "\"\"\"\n",
        "\n",
        "x = \"I ate an apple in the morning.\"\n",
        "print(x.replace(\"apple\",\"orange\"))"
      ],
      "metadata": {
        "id": "idopn3JWsd-Z",
        "outputId": "f44544d4-3784-4872-8d01-9a01f4629774",
        "colab": {
          "base_uri": "https://localhost:8080/"
        }
      },
      "execution_count": 34,
      "outputs": [
        {
          "output_type": "stream",
          "name": "stdout",
          "text": [
            "I ate an orange in the morning.\n"
          ]
        }
      ]
    },
    {
      "cell_type": "code",
      "source": [
        "\"\"\"\n",
        "8.\tCount how many times the letter \"e\" appears in:\n",
        "\"Elephants are the largest land animals.\"\n",
        "\"\"\"\n",
        "\n",
        "x = \"Elephants are the largest land animals.\"\n",
        "print(x.count(\"e\"))"
      ],
      "metadata": {
        "id": "y2U4pnxPsfFL",
        "outputId": "2598ceb1-5906-4937-ed3b-77f06417bd13",
        "colab": {
          "base_uri": "https://localhost:8080/"
        }
      },
      "execution_count": 35,
      "outputs": [
        {
          "output_type": "stream",
          "name": "stdout",
          "text": [
            "4\n"
          ]
        }
      ]
    },
    {
      "cell_type": "code",
      "source": [
        "\"\"\"\n",
        "9.\tRemove extra spaces from this sentence:\n",
        "\"   Python programming is awesome.   \"\n",
        "\"\"\"\n",
        "\n",
        "x = \"   Python programming is awesome.   \"\n",
        "print(x.strip())"
      ],
      "metadata": {
        "id": "n0lzCt1CsgW9",
        "outputId": "767184ee-5936-4af0-89c6-374fb410c51e",
        "colab": {
          "base_uri": "https://localhost:8080/"
        }
      },
      "execution_count": 36,
      "outputs": [
        {
          "output_type": "stream",
          "name": "stdout",
          "text": [
            "Python programming is awesome.\n"
          ]
        }
      ]
    },
    {
      "cell_type": "code",
      "source": [
        "\"\"\"\n",
        "10.\tJoin these two sentences using +:\n",
        "\"I love Python.\" and \"It is very powerful.\"\n",
        "\"\"\"\n",
        "\n",
        "x = \"I love Python.\"\n",
        "y = \"It is very powerful.\"\n",
        "print(x+\" \"+y)"
      ],
      "metadata": {
        "id": "VoRp7uo9shgb",
        "outputId": "a2374565-fb15-4af5-ed48-7f8f61e5790f",
        "colab": {
          "base_uri": "https://localhost:8080/"
        }
      },
      "execution_count": 37,
      "outputs": [
        {
          "output_type": "stream",
          "name": "stdout",
          "text": [
            "I love Python. It is very powerful.\n"
          ]
        }
      ]
    },
    {
      "cell_type": "code",
      "source": [
        "\"\"\"\n",
        "11.\tPrint the character at index 5 of this string:\n",
        "\"The quick brown fox jumps.\"\n",
        "\"\"\"\n",
        "\n",
        "x = \"The quick brown fox jumps.\"\n",
        "print(x[4])"
      ],
      "metadata": {
        "id": "G4kQe5aHsjVU",
        "outputId": "0f3a67e0-fc9e-4f74-b3a9-c8110a0fd5cb",
        "colab": {
          "base_uri": "https://localhost:8080/"
        }
      },
      "execution_count": 38,
      "outputs": [
        {
          "output_type": "stream",
          "name": "stdout",
          "text": [
            "q\n"
          ]
        }
      ]
    },
    {
      "cell_type": "code",
      "source": [
        "\"\"\"\n",
        "12.\tPrint this sentence three times using *:\n",
        "\"Practice makes perfect. \"\n",
        "\"\"\"\n",
        "\n",
        "x = \"Practice makes perfect. \"\n",
        "print((x * 3))"
      ],
      "metadata": {
        "id": "zUXvQxVgslP1",
        "outputId": "23e5e156-5b20-4790-ee31-e27b5669f524",
        "colab": {
          "base_uri": "https://localhost:8080/"
        }
      },
      "execution_count": 39,
      "outputs": [
        {
          "output_type": "stream",
          "name": "stdout",
          "text": [
            "Practice makes perfect. Practice makes perfect. Practice makes perfect. \n"
          ]
        }
      ]
    },
    {
      "cell_type": "code",
      "source": [
        "\"\"\"\n",
        "13.\tWhat will \"Coding is fun!\"[3] print?\n",
        "\"\"\"\n",
        "\n"
      ],
      "metadata": {
        "id": "kzGGn-Ipsmj_"
      },
      "execution_count": null,
      "outputs": []
    },
    {
      "cell_type": "code",
      "source": [
        "\"\"\"\n",
        "14.\tJoin these two strings and print:\n",
        "\"We are learning \" and \"Python strings.\"\n",
        "\"\"\"\n",
        "\n",
        "x = \"We are learning \"\n",
        "y = \"Python strings.\"\n",
        "print(x+\" \"+y)"
      ],
      "metadata": {
        "id": "Qo73LfkSsqF8",
        "outputId": "bd794031-f41d-41e0-cd2a-9a1860c8bf16",
        "colab": {
          "base_uri": "https://localhost:8080/"
        }
      },
      "execution_count": 19,
      "outputs": [
        {
          "output_type": "stream",
          "name": "stdout",
          "text": [
            "We are learning  Python strings.\n"
          ]
        }
      ]
    },
    {
      "cell_type": "code",
      "source": [
        "\"\"\"\n",
        "15.\tPrint the second character of this sentence:\n",
        "\"My favorite subject is math.\"\n",
        "\"\"\"\n",
        "\n",
        "x = \"My favorite subject is math.\"\n",
        "print(x[1])"
      ],
      "metadata": {
        "id": "VXqlzFgQsrkd",
        "outputId": "0908e800-b350-443f-f213-1db0eff93eaa",
        "colab": {
          "base_uri": "https://localhost:8080/"
        }
      },
      "execution_count": 20,
      "outputs": [
        {
          "output_type": "stream",
          "name": "stdout",
          "text": [
            "y\n"
          ]
        }
      ]
    },
    {
      "cell_type": "code",
      "source": [
        "\"\"\"\n",
        "16.\tCount how many times the letter \"a\" appears in this sentence:\n",
        "\"A cat sat on a mat under a lamp.\"\n",
        "\"\"\"\n",
        "\n",
        "x = \"A cat sat on a mat under a lamp.\"\n",
        "print(x.count(\"a\"))"
      ],
      "metadata": {
        "id": "_2feJ63Qss0Y",
        "outputId": "c874dac8-0320-4192-b373-fd857c2d9285",
        "colab": {
          "base_uri": "https://localhost:8080/"
        }
      },
      "execution_count": 21,
      "outputs": [
        {
          "output_type": "stream",
          "name": "stdout",
          "text": [
            "6\n"
          ]
        }
      ]
    },
    {
      "cell_type": "code",
      "source": [
        "\"\"\"\n",
        "17.\tFind the position of the first \"i\" in:\n",
        "\"Python is simple and powerful.\"\n",
        "\"\"\"\n",
        "\n",
        "x =  \"Python is simple and powerful.\"\n",
        "print(x.find(\"i\"))"
      ],
      "metadata": {
        "id": "ms-cYi0nst4m",
        "outputId": "92ebff9d-99a6-416c-845f-432c8b753955",
        "colab": {
          "base_uri": "https://localhost:8080/"
        }
      },
      "execution_count": 23,
      "outputs": [
        {
          "output_type": "stream",
          "name": "stdout",
          "text": [
            "7\n"
          ]
        }
      ]
    },
    {
      "cell_type": "code",
      "source": [
        "\"\"\"\n",
        "18.\tReplace \"rainy\" with \"sunny\" in this sentence:\n",
        "\"It is a rainy day.\"\n",
        "\"\"\"\n",
        "\n",
        "x = \"It is a rainy day.\"\n",
        "print(x.replace(\"rainy\",\"sunny\"))"
      ],
      "metadata": {
        "id": "qSqQOtESsvMM",
        "outputId": "244574d8-04d6-44c2-afea-5a90e944dccb",
        "colab": {
          "base_uri": "https://localhost:8080/"
        }
      },
      "execution_count": 24,
      "outputs": [
        {
          "output_type": "stream",
          "name": "stdout",
          "text": [
            "It is a sunny day.\n"
          ]
        }
      ]
    },
    {
      "cell_type": "code",
      "source": [
        "\"\"\"\n",
        "19.\tRemove spaces from this string using .strip():\n",
        "\"   Hello, how are you?   \"\n",
        "\"\"\"\n",
        "\n",
        "x = \"   Hello, how are you?   \"\n",
        "print(x.strip())"
      ],
      "metadata": {
        "id": "BEfkORNQswSN",
        "outputId": "dcf16f47-5774-4a90-e19d-dfad0c2d79b2",
        "colab": {
          "base_uri": "https://localhost:8080/"
        }
      },
      "execution_count": 25,
      "outputs": [
        {
          "output_type": "stream",
          "name": "stdout",
          "text": [
            "Hello, how are you?\n"
          ]
        }
      ]
    },
    {
      "cell_type": "code",
      "source": [
        "\"\"\"\n",
        "20.\tWhat is the length of this empty string:\n",
        "\"\"\n",
        "\"\"\"\n",
        "\n",
        "x = \"\"\n",
        "print(len(x))"
      ],
      "metadata": {
        "id": "gXMhhXSTsxQo",
        "outputId": "d8f58cd7-1489-492a-9794-8980bd9624af",
        "colab": {
          "base_uri": "https://localhost:8080/"
        }
      },
      "execution_count": 27,
      "outputs": [
        {
          "output_type": "stream",
          "name": "stdout",
          "text": [
            "0\n"
          ]
        }
      ]
    }
  ]
}