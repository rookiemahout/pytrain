{
  "nbformat": 4,
  "nbformat_minor": 0,
  "metadata": {
    "colab": {
      "provenance": [],
      "authorship_tag": "ABX9TyNmLLzQUfjkW+evGZq7OnKP",
      "include_colab_link": true
    },
    "kernelspec": {
      "name": "python3",
      "display_name": "Python 3"
    },
    "language_info": {
      "name": "python"
    }
  },
  "cells": [
    {
      "cell_type": "markdown",
      "metadata": {
        "id": "view-in-github",
        "colab_type": "text"
      },
      "source": [
        "<a href=\"https://colab.research.google.com/github/rookiemahout/pytrain/blob/Local/31052025001.ipynb\" target=\"_parent\"><img src=\"https://colab.research.google.com/assets/colab-badge.svg\" alt=\"Open In Colab\"/></a>"
      ]
    },
    {
      "cell_type": "code",
      "execution_count": 6,
      "metadata": {
        "colab": {
          "base_uri": "https://localhost:8080/"
        },
        "id": "BctGwFNEOMCK",
        "outputId": "1851c9c7-0e13-41bb-f321-368f1f5e43c3"
      },
      "outputs": [
        {
          "output_type": "stream",
          "name": "stdout",
          "text": [
            "Enter a number:20\n",
            "Above ten,\n",
            "but not above 20.\n"
          ]
        }
      ],
      "source": [
        "#Example\n",
        "x = int(input(\"Enter a number:\"))\n",
        "\n",
        "if x > 10:\n",
        "  print(\"Above 10,\")\n",
        "  if x > 20:\n",
        "    print(\"and also above 20!\")\n",
        "  else:\n",
        "    print(\"but not above 20.\")\n",
        "else:\n",
        "  print(\"Below 10.\")"
      ]
    },
    {
      "cell_type": "code",
      "source": [
        "#1. Is your number greater than 5?\n",
        "\n",
        "num = int(input(\"Enter a number of your choice: \"))\n",
        "\n",
        "if num > 5:\n",
        "  print(\"The number is greater than 5.\")\n",
        "else:\n",
        "  print(\"The number is lesser than or equal to 5.\")"
      ],
      "metadata": {
        "colab": {
          "base_uri": "https://localhost:8080/"
        },
        "id": "KECnyfplbueS",
        "outputId": "b1319760-4b36-42e4-daf8-0813c5f251ed"
      },
      "execution_count": 8,
      "outputs": [
        {
          "output_type": "stream",
          "name": "stdout",
          "text": [
            "Enter a number of your choice: 6\n",
            "The number is greater than 5.\n"
          ]
        }
      ]
    },
    {
      "cell_type": "code",
      "source": [
        "#2. Is it your birthday AND are you 7 years old?\n",
        "\n",
        "birthday = str(input(\"Is it your birthday? (Yes/No)\"))\n",
        "age = int(input(\"What is your age? (Number only)\"))\n",
        "\n",
        "if birthday == \"Yes\":\n",
        "  if age == 7:\n",
        "    print(\"Wishing you a Very Happy 7th Birthday!\")\n",
        "  else:\n",
        "    print(\"Wishing you a Very Happy Birthday!\")\n",
        "else:\n",
        "  print(\"Okay! Have a good day!\")"
      ],
      "metadata": {
        "colab": {
          "base_uri": "https://localhost:8080/"
        },
        "id": "uOUXJjxTcDqr",
        "outputId": "f68c8ebb-94c6-4a3c-c0da-9f35f1ac74fd"
      },
      "execution_count": 16,
      "outputs": [
        {
          "output_type": "stream",
          "name": "stdout",
          "text": [
            "Is it your birthday? Yes\n",
            "What is your age? 4\n",
            "Wishing you a Very Happy Birthday!\n"
          ]
        }
      ]
    },
    {
      "cell_type": "code",
      "source": [
        "#3. What color is your balloon?\n"
      ],
      "metadata": {
        "id": "D9euM8ZpcLCS"
      },
      "execution_count": 15,
      "outputs": []
    },
    {
      "cell_type": "code",
      "source": [
        "#4. Is the animal a dog or cat?"
      ],
      "metadata": {
        "id": "deeG3yb1cKjk"
      },
      "execution_count": null,
      "outputs": []
    },
    {
      "cell_type": "code",
      "source": [
        "#5. Are you wearing red shirt and blue jeans?"
      ],
      "metadata": {
        "id": "cIeGRQZ3cKbG"
      },
      "execution_count": null,
      "outputs": []
    },
    {
      "cell_type": "code",
      "source": [
        "#6. What number did you get on the test?"
      ],
      "metadata": {
        "id": "sjA6aaZHcKTI"
      },
      "execution_count": null,
      "outputs": []
    },
    {
      "cell_type": "code",
      "source": [
        "#7. Are you eating an apple and is it red?"
      ],
      "metadata": {
        "id": "3YMvbclLcKKd"
      },
      "execution_count": null,
      "outputs": []
    },
    {
      "cell_type": "code",
      "source": [
        "#8. Is the number even or odd?"
      ],
      "metadata": {
        "id": "y4lrumJGcKBl"
      },
      "execution_count": null,
      "outputs": []
    },
    {
      "cell_type": "code",
      "source": [
        "#9. What is your favorite color?"
      ],
      "metadata": {
        "id": "4jH_dWbacJ2x"
      },
      "execution_count": null,
      "outputs": []
    },
    {
      "cell_type": "code",
      "source": [
        "#10. What day is today?"
      ],
      "metadata": {
        "id": "aSiCOu9WcI4f"
      },
      "execution_count": null,
      "outputs": []
    }
  ]
}