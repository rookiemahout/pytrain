{
  "nbformat": 4,
  "nbformat_minor": 0,
  "metadata": {
    "colab": {
      "provenance": [],
      "authorship_tag": "ABX9TyMBOKHTTXo7WxeP8gaEbC7Q",
      "include_colab_link": true
    },
    "kernelspec": {
      "name": "python3",
      "display_name": "Python 3"
    },
    "language_info": {
      "name": "python"
    }
  },
  "cells": [
    {
      "cell_type": "markdown",
      "metadata": {
        "id": "view-in-github",
        "colab_type": "text"
      },
      "source": [
        "<a href=\"https://colab.research.google.com/github/rookiemahout/pytrain/blob/Local/07012025001.ipynb\" target=\"_parent\"><img src=\"https://colab.research.google.com/assets/colab-badge.svg\" alt=\"Open In Colab\"/></a>"
      ]
    },
    {
      "cell_type": "code",
      "execution_count": null,
      "metadata": {
        "id": "FleGku1ySn3Q"
      },
      "outputs": [],
      "source": [
        "for i in range(5):\n",
        "    print(\"Hello\")"
      ]
    },
    {
      "cell_type": "code",
      "source": [
        "for i in range(1,9):\n",
        "    print(i)"
      ],
      "metadata": {
        "id": "hhv7Ov3QTGO8",
        "outputId": "3e64b5b1-de55-4d7d-89a9-fdbaa58414fe",
        "colab": {
          "base_uri": "https://localhost:8080/"
        }
      },
      "execution_count": null,
      "outputs": [
        {
          "output_type": "stream",
          "name": "stdout",
          "text": [
            "1\n",
            "2\n",
            "3\n",
            "4\n",
            "5\n",
            "6\n",
            "7\n",
            "8\n"
          ]
        }
      ]
    },
    {
      "cell_type": "code",
      "source": [
        "for i in range(2,13,3):\n",
        "    print(i)"
      ],
      "metadata": {
        "id": "DCW5LgFBTcPz",
        "outputId": "27e49f2e-646b-459d-c7de-4d78a86622c7",
        "colab": {
          "base_uri": "https://localhost:8080/"
        }
      },
      "execution_count": 1,
      "outputs": [
        {
          "output_type": "stream",
          "name": "stdout",
          "text": [
            "2\n",
            "5\n",
            "8\n",
            "11\n"
          ]
        }
      ]
    },
    {
      "cell_type": "code",
      "source": [
        "for i in range(2,11,2):\n",
        "    print(i)"
      ],
      "metadata": {
        "id": "vrcWNr6pUBUd",
        "outputId": "da565d90-13e3-4b9b-8cb2-f45c1b0cfd98",
        "colab": {
          "base_uri": "https://localhost:8080/"
        }
      },
      "execution_count": null,
      "outputs": [
        {
          "output_type": "stream",
          "name": "stdout",
          "text": [
            "2\n",
            "4\n",
            "6\n",
            "8\n",
            "10\n"
          ]
        }
      ]
    },
    {
      "cell_type": "code",
      "source": [
        "for i in range(5,0,-2):\n",
        "    print(i)"
      ],
      "metadata": {
        "id": "7Wu9o3YNUlrT",
        "outputId": "9920e3ed-d0cd-4b52-bf09-2f1f8c793b10",
        "colab": {
          "base_uri": "https://localhost:8080/"
        }
      },
      "execution_count": null,
      "outputs": [
        {
          "output_type": "stream",
          "name": "stdout",
          "text": [
            "5\n",
            "3\n",
            "1\n"
          ]
        }
      ]
    },
    {
      "cell_type": "code",
      "source": [
        "for i in range(5,0,-1):\n",
        "    print(i)"
      ],
      "metadata": {
        "id": "DHKnzavAVHQq",
        "outputId": "5115c612-86ff-499c-9b87-f7a208535a09",
        "colab": {
          "base_uri": "https://localhost:8080/"
        }
      },
      "execution_count": null,
      "outputs": [
        {
          "output_type": "stream",
          "name": "stdout",
          "text": [
            "5\n",
            "4\n",
            "3\n",
            "2\n",
            "1\n"
          ]
        }
      ]
    },
    {
      "cell_type": "code",
      "source": [
        "for x in range(6):\n",
        "    print(\"Ahaan\")"
      ],
      "metadata": {
        "id": "FLT1El6yVe5x",
        "outputId": "e7fdfa90-18af-44db-8c65-eb9838ebf435",
        "colab": {
          "base_uri": "https://localhost:8080/"
        }
      },
      "execution_count": 5,
      "outputs": [
        {
          "output_type": "stream",
          "name": "stdout",
          "text": [
            "Ahaan\n",
            "Ahaan\n",
            "Ahaan\n",
            "Ahaan\n",
            "Ahaan\n",
            "Ahaan\n"
          ]
        }
      ]
    },
    {
      "cell_type": "code",
      "source": [
        "name = str(input(\"Enter any text: \"))\n",
        "\n",
        "for x in name:\n",
        "    print(x)"
      ],
      "metadata": {
        "id": "E82cbK3wV7NL"
      },
      "execution_count": null,
      "outputs": []
    },
    {
      "cell_type": "code",
      "source": [
        "\"\"\"\n",
        "You need to print the below table:\n",
        "\n",
        "\n",
        "4 x 1 = 4\n",
        "4 x 2 = 8\n",
        "4 x 3 = 12\n",
        "4 x 4 = 16\n",
        "4 x 5 = 20\n",
        "4 x 6 = 24\n",
        "4 x 7 = 28\n",
        "4 x 8 = 32\n",
        "4 x 9 = 36\n",
        "4 x 10 = 40\n",
        "\"\"\"\n",
        "\n",
        "for i in range(1,11,1):\n",
        "    print(\"4 x\",i, \" = \", i*4)"
      ],
      "metadata": {
        "id": "DwZpJgrRXTCk",
        "outputId": "bd9423f1-2d8a-4397-c28f-b9f4ca500b1b",
        "colab": {
          "base_uri": "https://localhost:8080/"
        }
      },
      "execution_count": null,
      "outputs": [
        {
          "output_type": "stream",
          "name": "stdout",
          "text": [
            "4 + 1  =  5\n",
            "4 + 2  =  6\n",
            "4 + 3  =  7\n",
            "4 + 4  =  8\n",
            "4 + 5  =  9\n",
            "4 + 6  =  10\n",
            "4 + 7  =  11\n",
            "4 + 8  =  12\n",
            "4 + 9  =  13\n",
            "4 + 10  =  14\n"
          ]
        }
      ]
    },
    {
      "cell_type": "code",
      "source": [
        "#Print the even numbers up till 15.\n",
        "\n",
        "for i in range(2,15,2):\n",
        "    print(i)"
      ],
      "metadata": {
        "id": "GkDgHaCsEY8b",
        "outputId": "dafa8b4e-3449-4415-d5a8-cfe4949e1d3a",
        "colab": {
          "base_uri": "https://localhost:8080/"
        }
      },
      "execution_count": 3,
      "outputs": [
        {
          "output_type": "stream",
          "name": "stdout",
          "text": [
            "2\n",
            "4\n",
            "6\n",
            "8\n",
            "10\n",
            "12\n",
            "14\n"
          ]
        }
      ]
    }
  ]
}