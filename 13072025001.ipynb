{
  "nbformat": 4,
  "nbformat_minor": 0,
  "metadata": {
    "colab": {
      "provenance": [],
      "authorship_tag": "ABX9TyN4XsEnf6F0afcV2sncGnhV",
      "include_colab_link": true
    },
    "kernelspec": {
      "name": "python3",
      "display_name": "Python 3"
    },
    "language_info": {
      "name": "python"
    }
  },
  "cells": [
    {
      "cell_type": "markdown",
      "metadata": {
        "id": "view-in-github",
        "colab_type": "text"
      },
      "source": [
        "<a href=\"https://colab.research.google.com/github/rookiemahout/pytrain/blob/Local/13072025001.ipynb\" target=\"_parent\"><img src=\"https://colab.research.google.com/assets/colab-badge.svg\" alt=\"Open In Colab\"/></a>"
      ]
    },
    {
      "cell_type": "code",
      "execution_count": 3,
      "metadata": {
        "id": "qYW8L8VA4h3d",
        "outputId": "ba239549-c64a-4117-d373-ada8845611fd",
        "colab": {
          "base_uri": "https://localhost:8080/"
        }
      },
      "outputs": [
        {
          "output_type": "stream",
          "name": "stdout",
          "text": [
            "18\n"
          ]
        }
      ],
      "source": [
        "\"\"\"\n",
        "A1. 1.\tWrite a program to print the length of this sentence:\n",
        "\"Python is amazing!\"\n",
        "\"\"\"\n",
        "\n",
        "a = \"Python is amazing!\"\n",
        "print(len(a))"
      ]
    },
    {
      "cell_type": "code",
      "source": [
        "\"\"\"\n",
        "A2.\tConvert the sentence \"HELLO, FRIENDS!\" to lowercase and print it.\n",
        "\"\"\"\n",
        "\n",
        "a = \"HELLO, FRIENDS!\"\n",
        "print(a.lower())"
      ],
      "metadata": {
        "id": "Bf4oJHS75pYx",
        "outputId": "e77ff094-0745-4ad0-f189-b4fc86ecab1e",
        "colab": {
          "base_uri": "https://localhost:8080/"
        }
      },
      "execution_count": 4,
      "outputs": [
        {
          "output_type": "stream",
          "name": "stdout",
          "text": [
            "hello, friends!\n"
          ]
        }
      ]
    },
    {
      "cell_type": "code",
      "source": [
        "\"\"\"\n",
        "A3.\tTake a sentence from the user and count how many times 'e' appears in it.\n",
        "\"\"\"\n",
        "\n",
        "x = str(input(\"Enter a sentence: \"))\n",
        "\n",
        "print(x.count(\"e\"))"
      ],
      "metadata": {
        "id": "TDOAFNOc5xbf",
        "outputId": "98a969a0-3595-4daa-885c-73f5266cf207",
        "colab": {
          "base_uri": "https://localhost:8080/"
        }
      },
      "execution_count": 6,
      "outputs": [
        {
          "output_type": "stream",
          "name": "stdout",
          "text": [
            "Enter a sentence: enter a sentence\n",
            "5\n"
          ]
        }
      ]
    },
    {
      "cell_type": "code",
      "source": [
        "\"\"\"\n",
        "A4.\tReplace \"rain\" with \"sun\" in this string:\n",
        "\"The rain is falling.\"\n",
        "\"\"\"\n",
        "\n",
        "a = \"The rain is falling.\"\n",
        "print(a.replace(\"rain\",\"sun\"))"
      ],
      "metadata": {
        "id": "IC8fmL-I50YX",
        "outputId": "81f03948-2156-4bea-d249-f03c975200fa",
        "colab": {
          "base_uri": "https://localhost:8080/"
        }
      },
      "execution_count": 8,
      "outputs": [
        {
          "output_type": "stream",
          "name": "stdout",
          "text": [
            "The sun is falling.\n"
          ]
        }
      ]
    },
    {
      "cell_type": "code",
      "source": [
        "\"\"\"\n",
        "A5.\tAsk the user to enter their name and print only the first character.\n",
        "\"\"\"\n",
        "\n",
        "name = str(input(\"Enter your name: \"))\n",
        "\n",
        "print(name[0])"
      ],
      "metadata": {
        "id": "uVEzosEy51xf",
        "outputId": "3bae7ff2-4549-4e8d-a283-a4df3643f56c",
        "colab": {
          "base_uri": "https://localhost:8080/"
        }
      },
      "execution_count": 10,
      "outputs": [
        {
          "output_type": "stream",
          "name": "stdout",
          "text": [
            "Enter your name: Avishek\n",
            "A\n"
          ]
        }
      ]
    },
    {
      "cell_type": "code",
      "source": [
        "\"\"\"\n",
        "A6.\tJoin the two strings \"Hello\" and \"World\" and print the result.\n",
        "\"\"\"\n",
        "a = \"Hello\"\n",
        "b = \"World\"\n",
        "\n",
        "print(a + \" \" + b)\n",
        "print(a,b)\n"
      ],
      "metadata": {
        "id": "Ksp78Bxv554b",
        "outputId": "b0437e66-68ee-4b97-a607-4fa5ccf9d887",
        "colab": {
          "base_uri": "https://localhost:8080/"
        }
      },
      "execution_count": 13,
      "outputs": [
        {
          "output_type": "stream",
          "name": "stdout",
          "text": [
            "Hello World\n",
            "Hello World\n"
          ]
        }
      ]
    },
    {
      "cell_type": "code",
      "source": [
        "\"\"\"\n",
        "B7.\tUse a for loop to print numbers from 1 to 5.\n",
        "\"\"\"\n",
        "\n",
        "for i in range(1,6):\n",
        "    print(i)"
      ],
      "metadata": {
        "id": "KQ_8WDqI_SD_",
        "outputId": "581f7ce2-5f62-4fa3-f865-5747304a8729",
        "colab": {
          "base_uri": "https://localhost:8080/"
        }
      },
      "execution_count": 14,
      "outputs": [
        {
          "output_type": "stream",
          "name": "stdout",
          "text": [
            "1\n",
            "2\n",
            "3\n",
            "4\n",
            "5\n"
          ]
        }
      ]
    },
    {
      "cell_type": "code",
      "source": [
        "\"\"\"\n",
        "B8.\tUse a while loop to print numbers from 7 down to 3.\n",
        "\"\"\"\n",
        "a = 7\n",
        "while a > 2:\n",
        "    print(a)\n",
        "    a = a-1"
      ],
      "metadata": {
        "id": "JAJL9cvr_YVP",
        "outputId": "3e8f12f6-2c3b-4c19-f8be-5d7ed05e07aa",
        "colab": {
          "base_uri": "https://localhost:8080/"
        }
      },
      "execution_count": 17,
      "outputs": [
        {
          "output_type": "stream",
          "name": "stdout",
          "text": [
            "7\n",
            "6\n",
            "5\n",
            "4\n",
            "3\n"
          ]
        }
      ]
    },
    {
      "cell_type": "code",
      "source": [
        "\"\"\"\n",
        "B9.\tAsk the user to enter a number and print its table (1 to 10).\n",
        "\"\"\"\n",
        "num = int(input(\"Enter a number\"))\n",
        "\n",
        "for i in range(1,11):\n",
        "    print(num,)"
      ],
      "metadata": {
        "id": "ZnFdjWS2_bO7",
        "outputId": "0d2dae59-a8be-496e-fac0-f9bfe84b2285",
        "colab": {
          "base_uri": "https://localhost:8080/"
        }
      },
      "execution_count": 19,
      "outputs": [
        {
          "output_type": "stream",
          "name": "stdout",
          "text": [
            "Enter a number3\n",
            "1\n",
            "2\n",
            "3\n",
            "4\n",
            "5\n",
            "6\n",
            "7\n",
            "8\n",
            "9\n",
            "10\n"
          ]
        }
      ]
    },
    {
      "cell_type": "code",
      "source": [
        "\"\"\"\n",
        "B10.\tKeep asking the user \"Do you want to continue?\" until they type \"yes\".\n",
        "\"\"\"\n",
        "\n"
      ],
      "metadata": {
        "id": "Lrbn0uOS_egO"
      },
      "execution_count": null,
      "outputs": []
    },
    {
      "cell_type": "code",
      "source": [
        "\"\"\"\n",
        "B11.\tPrint each character of the word \"Python\" using a loop.\n",
        "\"\"\"\n",
        "\n"
      ],
      "metadata": {
        "id": "FOYrP01u_hjr"
      },
      "execution_count": null,
      "outputs": []
    }
  ]
}