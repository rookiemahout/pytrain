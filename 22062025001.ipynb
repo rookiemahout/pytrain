{
  "nbformat": 4,
  "nbformat_minor": 0,
  "metadata": {
    "colab": {
      "provenance": [],
      "authorship_tag": "ABX9TyOVOaxUgiYxfYMR0t8Pn0bP",
      "include_colab_link": true
    },
    "kernelspec": {
      "name": "python3",
      "display_name": "Python 3"
    },
    "language_info": {
      "name": "python"
    }
  },
  "cells": [
    {
      "cell_type": "markdown",
      "metadata": {
        "id": "view-in-github",
        "colab_type": "text"
      },
      "source": [
        "<a href=\"https://colab.research.google.com/github/rookiemahout/pytrain/blob/Local/22062025001.ipynb\" target=\"_parent\"><img src=\"https://colab.research.google.com/assets/colab-badge.svg\" alt=\"Open In Colab\"/></a>"
      ]
    },
    {
      "cell_type": "code",
      "execution_count": null,
      "metadata": {
        "id": "kWyDs2ZUNMX7",
        "outputId": "7356111a-2ebc-4187-b2d3-a4a6bb1a776c",
        "colab": {
          "base_uri": "https://localhost:8080/"
        }
      },
      "outputs": [
        {
          "output_type": "stream",
          "name": "stdout",
          "text": [
            "****\n",
            "****\n",
            "****\n"
          ]
        }
      ],
      "source": [
        "\"\"\"\n",
        "1. Print a square of stars\n",
        "markdown\n",
        ".....................................................\n",
        "****\n",
        "****\n",
        "****\n",
        "Hint: Print 4 stars in 3 rows.\n",
        "Counter Tip: \"The row number starts at 1 and keeps adding 1. Each row prints 4 stars.\" Loops: Outer loop = 1 to 3 (rows); Inner loop = 1 to 4 (stars)\n",
        "\"\"\"\n",
        "#for star in range(1,5):\n",
        "#    for rows in range(1,4):\n",
        "\n",
        "# Outer loop for 3 rows\n",
        "for row in range(1, 4):\n",
        "    for star in range(1, 5):\n",
        "        print(\"*\", end=\"\")\n",
        "    print()  # Newline after each row\n"
      ]
    },
    {
      "cell_type": "code",
      "source": [
        "\"\"\"\n",
        "2. Print a triangle of numbers\n",
        ".....................................................\n",
        "1\n",
        "12\n",
        "123\n",
        "Hint: Add one more number in each row.\n",
        "Counter Tip: \"Row 1 has 1 number, row 2 has 2...\"\n",
        "Loops: Outer loop = 1 to 3; Inner loop = 1 to current row number\n",
        "\"\"\"\n",
        "\n",
        "for row in range(1,4):\n",
        "    for num in range(1,row+1):\n",
        "        print(num, end=\"\")\n",
        "    print()"
      ],
      "metadata": {
        "id": "81L1B9wuOUMC",
        "outputId": "674a9fe2-f91b-4ad8-ea46-1aeef1add88d",
        "colab": {
          "base_uri": "https://localhost:8080/"
        }
      },
      "execution_count": 2,
      "outputs": [
        {
          "output_type": "stream",
          "name": "stdout",
          "text": [
            "1\n",
            "12\n",
            "123\n"
          ]
        }
      ]
    },
    {
      "cell_type": "code",
      "source": [],
      "metadata": {
        "id": "Q17u5fqvRZ-u"
      },
      "execution_count": null,
      "outputs": []
    }
  ]
}