{
  "nbformat": 4,
  "nbformat_minor": 0,
  "metadata": {
    "colab": {
      "provenance": [],
      "authorship_tag": "ABX9TyMlPSvx+Q232Bml59XGy1MZ",
      "include_colab_link": true
    },
    "kernelspec": {
      "name": "python3",
      "display_name": "Python 3"
    },
    "language_info": {
      "name": "python"
    }
  },
  "cells": [
    {
      "cell_type": "markdown",
      "metadata": {
        "id": "view-in-github",
        "colab_type": "text"
      },
      "source": [
        "<a href=\"https://colab.research.google.com/github/rookiemahout/pytrain/blob/Local/07012025001.ipynb\" target=\"_parent\"><img src=\"https://colab.research.google.com/assets/colab-badge.svg\" alt=\"Open In Colab\"/></a>"
      ]
    },
    {
      "cell_type": "code",
      "execution_count": null,
      "metadata": {
        "id": "FleGku1ySn3Q",
        "outputId": "fe3feff4-9134-4dc8-d020-1ce88f0c02c5",
        "colab": {
          "base_uri": "https://localhost:8080/"
        }
      },
      "outputs": [
        {
          "output_type": "stream",
          "name": "stdout",
          "text": [
            "0\n",
            "1\n",
            "2\n",
            "3\n",
            "4\n"
          ]
        }
      ],
      "source": [
        "for i in range(5):\n",
        "    print(i)"
      ]
    },
    {
      "cell_type": "code",
      "source": [
        "for i in range(1,9):\n",
        "    print(i)"
      ],
      "metadata": {
        "id": "hhv7Ov3QTGO8",
        "outputId": "3e64b5b1-de55-4d7d-89a9-fdbaa58414fe",
        "colab": {
          "base_uri": "https://localhost:8080/"
        }
      },
      "execution_count": null,
      "outputs": [
        {
          "output_type": "stream",
          "name": "stdout",
          "text": [
            "1\n",
            "2\n",
            "3\n",
            "4\n",
            "5\n",
            "6\n",
            "7\n",
            "8\n"
          ]
        }
      ]
    },
    {
      "cell_type": "code",
      "source": [
        "for i in range(1,9,4):\n",
        "    print(i)"
      ],
      "metadata": {
        "id": "DCW5LgFBTcPz",
        "outputId": "ae1e96c8-93d8-44a1-d426-2c76e27618d4",
        "colab": {
          "base_uri": "https://localhost:8080/"
        }
      },
      "execution_count": null,
      "outputs": [
        {
          "output_type": "stream",
          "name": "stdout",
          "text": [
            "1\n",
            "5\n"
          ]
        }
      ]
    },
    {
      "cell_type": "code",
      "source": [
        "for i in range(2,11,2):\n",
        "    print(i)"
      ],
      "metadata": {
        "id": "vrcWNr6pUBUd",
        "outputId": "da565d90-13e3-4b9b-8cb2-f45c1b0cfd98",
        "colab": {
          "base_uri": "https://localhost:8080/"
        }
      },
      "execution_count": null,
      "outputs": [
        {
          "output_type": "stream",
          "name": "stdout",
          "text": [
            "2\n",
            "4\n",
            "6\n",
            "8\n",
            "10\n"
          ]
        }
      ]
    },
    {
      "cell_type": "code",
      "source": [
        "for i in range(5,0,-2):\n",
        "    print(i)"
      ],
      "metadata": {
        "id": "7Wu9o3YNUlrT",
        "outputId": "9920e3ed-d0cd-4b52-bf09-2f1f8c793b10",
        "colab": {
          "base_uri": "https://localhost:8080/"
        }
      },
      "execution_count": null,
      "outputs": [
        {
          "output_type": "stream",
          "name": "stdout",
          "text": [
            "5\n",
            "3\n",
            "1\n"
          ]
        }
      ]
    },
    {
      "cell_type": "code",
      "source": [
        "for i in range(5,0,-1):\n",
        "    print(i)"
      ],
      "metadata": {
        "id": "DHKnzavAVHQq",
        "outputId": "5115c612-86ff-499c-9b87-f7a208535a09",
        "colab": {
          "base_uri": "https://localhost:8080/"
        }
      },
      "execution_count": null,
      "outputs": [
        {
          "output_type": "stream",
          "name": "stdout",
          "text": [
            "5\n",
            "4\n",
            "3\n",
            "2\n",
            "1\n"
          ]
        }
      ]
    },
    {
      "cell_type": "code",
      "source": [
        "for i in range(6):\n",
        "    print(\"A haan\")"
      ],
      "metadata": {
        "id": "FLT1El6yVe5x",
        "outputId": "e464e022-d420-4d1d-e652-1a4f8cb5b54a",
        "colab": {
          "base_uri": "https://localhost:8080/"
        }
      },
      "execution_count": null,
      "outputs": [
        {
          "output_type": "stream",
          "name": "stdout",
          "text": [
            "Ahaan\n",
            "Ahaan\n",
            "Ahaan\n",
            "Ahaan\n",
            "Ahaan\n",
            "Ahaan\n"
          ]
        }
      ]
    },
    {
      "cell_type": "code",
      "source": [
        "name = \"i love coding\"\n",
        "for i in name:\n",
        "    print(i)"
      ],
      "metadata": {
        "id": "E82cbK3wV7NL",
        "outputId": "a668bc76-1806-4cf7-ed50-25141a7dd936",
        "colab": {
          "base_uri": "https://localhost:8080/"
        }
      },
      "execution_count": null,
      "outputs": [
        {
          "output_type": "stream",
          "name": "stdout",
          "text": [
            "i\n",
            " \n",
            "l\n",
            "o\n",
            "v\n",
            "e\n",
            " \n",
            "c\n",
            "o\n",
            "d\n",
            "i\n",
            "n\n",
            "g\n"
          ]
        }
      ]
    },
    {
      "cell_type": "code",
      "source": [
        "\"\"\"\n",
        "You need to print the below table:\n",
        "\n",
        "\n",
        "4 x 1 = 4\n",
        "4 x 2 = 8\n",
        "4 x 3 = 12\n",
        "4 x 4 = 16\n",
        "4 x 5 = 20\n",
        "4 x 6 = 24\n",
        "4 x 7 = 28\n",
        "4 x 8 = 32\n",
        "4 x 9 = 36\n",
        "4 x 10 = 40\n",
        "\"\"\"\n",
        "\n",
        "for i in range(1,11,1):\n",
        "    print(\"4 x\",i, \" = \", i*4)"
      ],
      "metadata": {
        "id": "DwZpJgrRXTCk",
        "outputId": "bd9423f1-2d8a-4397-c28f-b9f4ca500b1b",
        "colab": {
          "base_uri": "https://localhost:8080/"
        }
      },
      "execution_count": 10,
      "outputs": [
        {
          "output_type": "stream",
          "name": "stdout",
          "text": [
            "4 + 1  =  5\n",
            "4 + 2  =  6\n",
            "4 + 3  =  7\n",
            "4 + 4  =  8\n",
            "4 + 5  =  9\n",
            "4 + 6  =  10\n",
            "4 + 7  =  11\n",
            "4 + 8  =  12\n",
            "4 + 9  =  13\n",
            "4 + 10  =  14\n"
          ]
        }
      ]
    }
  ]
}