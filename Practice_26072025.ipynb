{
  "nbformat": 4,
  "nbformat_minor": 0,
  "metadata": {
    "colab": {
      "provenance": [],
      "authorship_tag": "ABX9TyOvMTrSp8KZ06yb66NZhGuH",
      "include_colab_link": true
    },
    "kernelspec": {
      "name": "python3",
      "display_name": "Python 3"
    },
    "language_info": {
      "name": "python"
    }
  },
  "cells": [
    {
      "cell_type": "markdown",
      "metadata": {
        "id": "view-in-github",
        "colab_type": "text"
      },
      "source": [
        "<a href=\"https://colab.research.google.com/github/rookiemahout/pytrain/blob/Local/Practice_26072025.ipynb\" target=\"_parent\"><img src=\"https://colab.research.google.com/assets/colab-badge.svg\" alt=\"Open In Colab\"/></a>"
      ]
    },
    {
      "cell_type": "code",
      "execution_count": 4,
      "metadata": {
        "colab": {
          "base_uri": "https://localhost:8080/",
          "height": 106
        },
        "id": "PI4SZKs53pDi",
        "outputId": "44674b0d-0dd0-48d8-c24d-8a5594c174a1"
      },
      "outputs": [
        {
          "output_type": "error",
          "ename": "SyntaxError",
          "evalue": "expression cannot contain assignment, perhaps you meant \"==\"? (ipython-input-4-1239991536.py, line 19)",
          "traceback": [
            "\u001b[0;36m  File \u001b[0;32m\"/tmp/ipython-input-4-1239991536.py\"\u001b[0;36m, line \u001b[0;32m19\u001b[0m\n\u001b[0;31m    print(opponent == 1 and computer = 3)or\\\u001b[0m\n\u001b[0m          ^\u001b[0m\n\u001b[0;31mSyntaxError\u001b[0m\u001b[0;31m:\u001b[0m expression cannot contain assignment, perhaps you meant \"==\"?\n"
          ]
        }
      ],
      "source": [
        "#✌️✊🤚\n",
        "\n",
        "import random\n",
        "print(\"Lets play ✌️✊🤚! \")\n",
        "round = 1\n",
        "computer = 0\n",
        "user = 0\n",
        "tie = 0\n",
        "while round <= 5:\n",
        "    print(\"⭐round\",round)\n",
        "    choice = int(input(\"Enter your choice as 1 ✌️ 2 ✊ 3 🤚\"))\n",
        "    if computer == 1:\n",
        "        print(\"Computer chose 1 ✊\")\n",
        "    elif computer == 2:\n",
        "        print(\"Computer chose 2 🤚 \")\n",
        "    else:\n",
        "        print(\"Computer chose 3 ✌️ \")\n",
        "        random.randint(1,3)\n",
        "        print(opponent == 1 and computer = 3)or\\\n",
        "        print(opponent == 2 and computer = 1)or\\\n",
        "        print(opponent == 3 and computer = 2):\n",
        "        user = user+1\n",
        "        print(\"You won the game!\")\n",
        "    if user == computer:\n",
        "        print(\"It is a tie!\")\n",
        "        tie = tie+1\n",
        "    else:\n",
        "        print(\"Computer won the game!\")\n",
        "        co0mputer = computer+1\n",
        "        print(\"Game over!\")\n",
        "\n"
      ]
    }
  ]
}