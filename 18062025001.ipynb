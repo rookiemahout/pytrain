{
  "nbformat": 4,
  "nbformat_minor": 0,
  "metadata": {
    "colab": {
      "provenance": [],
      "authorship_tag": "ABX9TyOEjb9D/mRpEXqgLccRJoKI",
      "include_colab_link": true
    },
    "kernelspec": {
      "name": "python3",
      "display_name": "Python 3"
    },
    "language_info": {
      "name": "python"
    }
  },
  "cells": [
    {
      "cell_type": "markdown",
      "metadata": {
        "id": "view-in-github",
        "colab_type": "text"
      },
      "source": [
        "<a href=\"https://colab.research.google.com/github/rookiemahout/pytrain/blob/Local/18062025001.ipynb\" target=\"_parent\"><img src=\"https://colab.research.google.com/assets/colab-badge.svg\" alt=\"Open In Colab\"/></a>"
      ]
    },
    {
      "cell_type": "code",
      "execution_count": 17,
      "metadata": {
        "colab": {
          "base_uri": "https://localhost:8080/"
        },
        "id": "trCOyAHKKBlu",
        "outputId": "c6979b72-b7a0-441f-abbc-b54edccd4c96"
      },
      "outputs": [
        {
          "output_type": "stream",
          "name": "stdout",
          "text": [
            "1\n",
            "2\n",
            "3\n",
            "4\n",
            "5\n"
          ]
        }
      ],
      "source": [
        "# Write a while loop to print numbers from 1 to 5.\n",
        "\n",
        "i=1\n",
        "while i <= 5:\n",
        "    print(i)\n",
        "    i=i+1"
      ]
    },
    {
      "cell_type": "code",
      "source": [
        "# Print your name 4 times using a while loop.\n",
        "\n",
        "i = 3\n",
        "while i <= 6:\n",
        "    print(\"Ahaan\")\n",
        "    i=i+1"
      ],
      "metadata": {
        "colab": {
          "base_uri": "https://localhost:8080/"
        },
        "id": "dndbmD7_K8IL",
        "outputId": "8c3182da-a631-458b-f79b-8911311edc45"
      },
      "execution_count": 19,
      "outputs": [
        {
          "output_type": "stream",
          "name": "stdout",
          "text": [
            "Ahaan\n",
            "Ahaan\n",
            "Ahaan\n",
            "Ahaan\n"
          ]
        }
      ]
    },
    {
      "cell_type": "code",
      "source": [
        "# Use a while loop to count backward from 5 to 1.\n",
        "\n",
        "i=5\n",
        "while i >= 1:\n",
        "    print(i)\n",
        "    i=i-1"
      ],
      "metadata": {
        "colab": {
          "base_uri": "https://localhost:8080/"
        },
        "id": "1A5U7oa6K_0G",
        "outputId": "6acff731-d15e-4da1-c5fd-925eeed50123"
      },
      "execution_count": 15,
      "outputs": [
        {
          "output_type": "stream",
          "name": "stdout",
          "text": [
            "5\n",
            "4\n",
            "3\n",
            "2\n",
            "1\n"
          ]
        }
      ]
    },
    {
      "cell_type": "code",
      "source": [
        "# Print “I love coding!” 3 times using a while loop.\n"
      ],
      "metadata": {
        "id": "a9tnW-QXLA-o"
      },
      "execution_count": null,
      "outputs": []
    },
    {
      "cell_type": "code",
      "source": [
        "# Print numbers from 2 to 10 by skipping 2 each time.\n"
      ],
      "metadata": {
        "id": "eO0AlAvyLCIi"
      },
      "execution_count": null,
      "outputs": []
    },
    {
      "cell_type": "code",
      "source": [
        "# Use a while loop to print a smiley face 😊 five times.\n"
      ],
      "metadata": {
        "id": "RnvEmtItLDRf"
      },
      "execution_count": null,
      "outputs": []
    },
    {
      "cell_type": "code",
      "source": [
        "# Print 4 stars ★ using a while loop.\n"
      ],
      "metadata": {
        "id": "cLuQ72snLEi6"
      },
      "execution_count": null,
      "outputs": []
    },
    {
      "cell_type": "code",
      "source": [
        "# Make a line of 6 hearts ❤ with a while loop.\n"
      ],
      "metadata": {
        "id": "75BVzulgLGJQ"
      },
      "execution_count": null,
      "outputs": []
    },
    {
      "cell_type": "code",
      "source": [
        "# Print “Clap!” 3 times in a while loop.\n"
      ],
      "metadata": {
        "id": "RjYQjp-0LH7K"
      },
      "execution_count": null,
      "outputs": []
    },
    {
      "cell_type": "code",
      "source": [
        "\"\"\"\n",
        "Print this pattern using a loop:\n",
        "1\n",
        "1 1\n",
        "1 1 1\n",
        "\"\"\"\n"
      ],
      "metadata": {
        "id": "PJDMsQKsLIgC"
      },
      "execution_count": null,
      "outputs": []
    },
    {
      "cell_type": "code",
      "source": [
        "# Write a while loop that asks the user to guess the number 5 until they get it right.\n"
      ],
      "metadata": {
        "id": "r4Ofz0O4LLCh"
      },
      "execution_count": null,
      "outputs": []
    },
    {
      "cell_type": "code",
      "source": [
        "# Ask the user to keep typing until they type the word “stop”.\n"
      ],
      "metadata": {
        "id": "FQMPW4vBLMXh"
      },
      "execution_count": null,
      "outputs": []
    },
    {
      "cell_type": "code",
      "source": [
        "# Keep printing “Eat your food!” until a variable bites reaches 3.\n"
      ],
      "metadata": {
        "id": "flaZXzAcLNrR"
      },
      "execution_count": null,
      "outputs": []
    },
    {
      "cell_type": "code",
      "source": [
        "# Use a while loop to add numbers from 1 to 5 and print the total.\n"
      ],
      "metadata": {
        "id": "wzJTYXrRLQgC"
      },
      "execution_count": null,
      "outputs": []
    },
    {
      "cell_type": "code",
      "source": [
        "# You have 4 blocks. Use a loop to print “Jump and drop a block!” 4 times.\n"
      ],
      "metadata": {
        "id": "Len-VmZeLR1r"
      },
      "execution_count": null,
      "outputs": []
    },
    {
      "cell_type": "code",
      "source": [
        "# Pretend you are walking. Use a loop to print “Step 1”, “Step 2”, … till Step 5.\n"
      ],
      "metadata": {
        "id": "wu3uYMGyLTRF"
      },
      "execution_count": null,
      "outputs": []
    },
    {
      "cell_type": "code",
      "source": [
        "# While the weather is raining, print “Waiting inside…” 3 times.\n"
      ],
      "metadata": {
        "id": "Y39cAvRgLUb6"
      },
      "execution_count": null,
      "outputs": []
    },
    {
      "cell_type": "code",
      "source": [
        "# Use a loop to print the word “Done!” only once (loop should run once)\n"
      ],
      "metadata": {
        "id": "pcF6qpO7LUvw"
      },
      "execution_count": null,
      "outputs": []
    }
  ]
}