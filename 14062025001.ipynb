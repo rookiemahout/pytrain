{
  "nbformat": 4,
  "nbformat_minor": 0,
  "metadata": {
    "colab": {
      "provenance": [],
      "authorship_tag": "ABX9TyOD1f4mqCmN+MYZ5itJ3tyc",
      "include_colab_link": true
    },
    "kernelspec": {
      "name": "python3",
      "display_name": "Python 3"
    },
    "language_info": {
      "name": "python"
    }
  },
  "cells": [
    {
      "cell_type": "markdown",
      "metadata": {
        "id": "view-in-github",
        "colab_type": "text"
      },
      "source": [
        "<a href=\"https://colab.research.google.com/github/rookiemahout/pytrain/blob/Local/14062025001.ipynb\" target=\"_parent\"><img src=\"https://colab.research.google.com/assets/colab-badge.svg\" alt=\"Open In Colab\"/></a>"
      ]
    },
    {
      "cell_type": "code",
      "execution_count": 1,
      "metadata": {
        "id": "URF7nyeyHJDL",
        "outputId": "b6b86d92-8e10-4a36-b2b9-881d2105b81f",
        "colab": {
          "base_uri": "https://localhost:8080/"
        }
      },
      "outputs": [
        {
          "output_type": "stream",
          "name": "stdout",
          "text": [
            "Hello\n",
            "Hello\n",
            "Hello\n",
            "Hello\n",
            "Hello\n",
            "Hello\n"
          ]
        }
      ],
      "source": [
        "i=0\n",
        "while i <= 5:\n",
        "    print(\"Hello\")\n",
        "    i=i+1"
      ]
    },
    {
      "cell_type": "code",
      "source": [
        "i=0\n",
        "while i <= 5:\n",
        "    print(i)\n",
        "    i=i+1"
      ],
      "metadata": {
        "id": "vCj2apf2K6M_",
        "outputId": "40f1f994-f7c1-4654-e1e2-893f0d70f2fc",
        "colab": {
          "base_uri": "https://localhost:8080/"
        }
      },
      "execution_count": 2,
      "outputs": [
        {
          "output_type": "stream",
          "name": "stdout",
          "text": [
            "0\n",
            "1\n",
            "2\n",
            "3\n",
            "4\n",
            "5\n"
          ]
        }
      ]
    },
    {
      "cell_type": "code",
      "source": [
        "i=5\n",
        "while i >= 1:\n",
        "    print(i)\n",
        "    i=i-1"
      ],
      "metadata": {
        "id": "7iZbkPxALKMa",
        "outputId": "9bb2a2fd-d723-430c-f343-cbc19b5bb324",
        "colab": {
          "base_uri": "https://localhost:8080/"
        }
      },
      "execution_count": 3,
      "outputs": [
        {
          "output_type": "stream",
          "name": "stdout",
          "text": [
            "5\n",
            "4\n",
            "3\n",
            "2\n",
            "1\n"
          ]
        }
      ]
    },
    {
      "cell_type": "code",
      "source": [
        "i=1\n",
        "while i <= 5:\n",
        "    print(\"step \",i)\n",
        "    i=i+1"
      ],
      "metadata": {
        "id": "-yP9Fu6EL1RI",
        "outputId": "3e8b409a-34c1-43d5-982d-82905c55c00a",
        "colab": {
          "base_uri": "https://localhost:8080/"
        }
      },
      "execution_count": 5,
      "outputs": [
        {
          "output_type": "stream",
          "name": "stdout",
          "text": [
            "step  1\n",
            "step  2\n",
            "step  3\n",
            "step  4\n",
            "step  5\n"
          ]
        }
      ]
    },
    {
      "cell_type": "code",
      "source": [
        "i=0\n",
        "while i <= 5:\n",
        "    print(\"dog\")\n",
        "    print(\"cat\")\n",
        "    i=i+1"
      ],
      "metadata": {
        "id": "qjJW13SvMqsB",
        "outputId": "c09b60e5-bd31-420a-d912-d6b5987c4510",
        "colab": {
          "base_uri": "https://localhost:8080/"
        }
      },
      "execution_count": 6,
      "outputs": [
        {
          "output_type": "stream",
          "name": "stdout",
          "text": [
            "dog\n",
            "cat\n",
            "dog\n",
            "cat\n",
            "dog\n",
            "cat\n",
            "dog\n",
            "cat\n",
            "dog\n",
            "cat\n",
            "dog\n",
            "cat\n"
          ]
        }
      ]
    },
    {
      "cell_type": "code",
      "source": [
        "i=0\n",
        "while i <= 5:\n",
        "    print(\"Dog\")\n",
        "    i=i+1\n",
        "\n",
        "a=0\n",
        "while a <= 5:\n",
        "    print(\"Cat\")\n",
        "    a=a+1"
      ],
      "metadata": {
        "id": "KaCNr1poNU3s",
        "outputId": "22f28427-2f78-4094-f78e-75d731696d6e",
        "colab": {
          "base_uri": "https://localhost:8080/"
        }
      },
      "execution_count": 7,
      "outputs": [
        {
          "output_type": "stream",
          "name": "stdout",
          "text": [
            "Dog\n",
            "Dog\n",
            "Dog\n",
            "Dog\n",
            "Dog\n",
            "Dog\n",
            "Cat\n",
            "Cat\n",
            "Cat\n",
            "Cat\n",
            "Cat\n",
            "Cat\n"
          ]
        }
      ]
    },
    {
      "cell_type": "code",
      "source": [
        "guess = 0\n",
        "while guess !=7:\n",
        "    guess = int(input(\"Guess a number:\"))\n",
        "print(\"You won the game!\")\n"
      ],
      "metadata": {
        "id": "ByPzTRO5OPru",
        "outputId": "723c719e-b41f-48f3-c432-7b50d87207e9",
        "colab": {
          "base_uri": "https://localhost:8080/"
        }
      },
      "execution_count": 9,
      "outputs": [
        {
          "output_type": "stream",
          "name": "stdout",
          "text": [
            "Guess a number:1\n",
            "Guess a number:2\n",
            "Guess a number:3\n",
            "Guess a number:7\n",
            "You won the game!\n"
          ]
        }
      ]
    },
    {
      "cell_type": "code",
      "source": [
        "a = 7\n",
        "guess = int(input(\"Enter a number:\"))\n",
        "\n",
        "if guess == a:\n",
        "    print(\"You won the game!\")\n",
        "else:\n",
        "    print(\"You have to try again!\")"
      ],
      "metadata": {
        "id": "4pD0VUPeS_6R",
        "outputId": "d99cf96f-1753-4b0c-9720-b0286e71aa61",
        "colab": {
          "base_uri": "https://localhost:8080/"
        }
      },
      "execution_count": 11,
      "outputs": [
        {
          "output_type": "stream",
          "name": "stdout",
          "text": [
            "Enter a number:7\n",
            "You won the game!\n"
          ]
        }
      ]
    },
    {
      "cell_type": "code",
      "source": [
        "a = \"\"\n",
        "while a.lower() != \"Mango\":\n",
        "    a = str(input(\"Enter any fruit:\"))\n",
        "print(\"You have guessed my favourite fruit\")"
      ],
      "metadata": {
        "id": "3lxviD09UNIw",
        "outputId": "f996a060-a6f6-408f-a8aa-9ec4d8c4c484",
        "colab": {
          "base_uri": "https://localhost:8080/"
        }
      },
      "execution_count": 12,
      "outputs": [
        {
          "output_type": "stream",
          "name": "stdout",
          "text": [
            "Enter any fruit:apple\n",
            "Enter any fruit:mango\n",
            "Enter any fruit:Mango\n",
            "You have guessed my favourite fruit\n"
          ]
        }
      ]
    }
  ]
}